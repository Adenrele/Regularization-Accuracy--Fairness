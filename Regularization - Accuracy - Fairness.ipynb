{
 "cells": [
  {
   "cell_type": "markdown",
   "metadata": {},
   "source": [
    "# Regularization and Fairness\n",
    "\n",
    "#### Import required libraries and functions."
   ]
  },
  {
   "cell_type": "code",
   "execution_count": 1,
   "metadata": {},
   "outputs": [],
   "source": [
    "#Standard ibraries for EDA and operations.\n",
    "import numpy as np\n",
    "import pandas as pd\n",
    "\n",
    "#Standard libraries for visualisations.\n",
    "%matplotlib inline\n",
    "import matplotlib.pyplot as plt\n",
    "import seaborn as sns\n",
    "\n",
    "#Useful for displaying notes in jupyter notebooks\n",
    "from IPython.display import Markdown, display\n",
    "\n",
    "#Models and metrics\n",
    "from sklearn import svm\n",
    "from sklearn.metrics import f1_score\n",
    "from sklearn.preprocessing import StandardScaler  \n",
    "from sklearn.model_selection import RandomizedSearchCV\n",
    "\n",
    "#Time related measurements and operaitions.\n",
    "import time \n",
    "\n",
    "#AIF360 data, metrics, functions and classes.\n",
    "from aif360.algorithms.preprocessing.optim_preproc_helpers.data_preproc_functions import load_preproc_data_adult, load_preproc_data_german\n",
    "from aif360.metrics import ClassificationMetric, BinaryLabelDatasetMetric\n",
    "\n",
    "#AIF360 tools for optimised pre-processing (of input data)\n",
    "from aif360.algorithms.preprocessing.optim_preproc import OptimPreproc\n",
    "from aif360.algorithms.preprocessing.optim_preproc_helpers.distortion_functions import get_distortion_adult, get_distortion_german\n",
    "from aif360.algorithms.preprocessing.optim_preproc_helpers.opt_tools import OptTools"
   ]
  },
  {
   "cell_type": "markdown",
   "metadata": {},
   "source": [
    "#### Download datasets and save in local directories described within the package's README\n",
    "This is different for those running in google colab."
   ]
  },
  {
   "cell_type": "code",
   "execution_count": 2,
   "metadata": {},
   "outputs": [],
   "source": [
    "#!wget https://archive.ics.uci.edu/ml/machine-learning-databases/adult/adult.data -P /Users/adenrelekomolafe/opt/anaconda3/lib/python3.7/site-packages/aif360/data/raw/adult\n",
    "#!wget https://archive.ics.uci.edu/ml/machine-learning-databases/adult/adult.names -P /Users/adenrelekomolafe/opt/anaconda3/lib/python3.7/site-packages/aif360/data/raw/adult\n",
    "#!wget https://archive.ics.uci.edu/ml/machine-learning-databases/adult/adult.test -P /Users/adenrelekomolafe/opt/anaconda3/lib/python3.7/site-packages/aif360/data/raw/adult\n",
    "\n",
    "#!wget https://archive.ics.uci.edu/ml/machine-learning-databases/statlog/german/german.data -P /Users/adenrelekomolafe/opt/anaconda3/lib/python3.7/site-packages/aif360/data/raw/german\n",
    "#!wget https://archive.ics.uci.edu/ml/machine-learning-databases/statlog/german/german.doc -P /Users/adenrelekomolafe/opt/anaconda3/lib/python3.7/site-packages/aif360/data/raw/german"
   ]
  },
  {
   "cell_type": "markdown",
   "metadata": {},
   "source": [
    "#### Import the pre-processed Adult and German datasets\n",
    "\n",
    "##### Retain multiple sensitive attributes"
   ]
  },
  {
   "cell_type": "code",
   "execution_count": 3,
   "metadata": {},
   "outputs": [],
   "source": [
    "#Adult dataset retaining protected attributes\n",
    "adult_dataset = load_preproc_data_adult(['sex', 'race'])\n",
    "\n",
    "#German dataset retaining protected attributes\n",
    "german_dataset = load_preproc_data_german(['sex', 'age'])"
   ]
  },
  {
   "cell_type": "markdown",
   "metadata": {},
   "source": [
    "#### Split into train and test sets\n",
    "Note, standard scaler is not used below but is used within the function created for 5-fold validation and for the chosen models."
   ]
  },
  {
   "cell_type": "code",
   "execution_count": 4,
   "metadata": {},
   "outputs": [],
   "source": [
    "#Adult\n",
    "train, test = adult_dataset.split([0.7], shuffle=True, seed=0)\n",
    "\n",
    "#German\n",
    "ger_train, ger_test = german_dataset.split([0.7], shuffle=True, seed=0)"
   ]
  },
  {
   "cell_type": "markdown",
   "metadata": {},
   "source": [
    "#### Define privileged and unprivileged groups"
   ]
  },
  {
   "cell_type": "code",
   "execution_count": 5,
   "metadata": {},
   "outputs": [],
   "source": [
    "#Intersectionality of identities!\n",
    "privileged_adult = [{'sex': 1, 'race': 1}]\n",
    "unprivileged_adult = [{'sex': 0, 'race': 0}]\n",
    "\n",
    "privileged_german = [{'sex': 1, 'age': 1}]\n",
    "unprivileged_german = [{'sex': 0, 'age': 0}]"
   ]
  },
  {
   "cell_type": "markdown",
   "metadata": {},
   "source": [
    "#### Description of the training sets"
   ]
  },
  {
   "cell_type": "code",
   "execution_count": 6,
   "metadata": {},
   "outputs": [
    {
     "data": {
      "text/markdown": [
       "#### Adult training set shape"
      ],
      "text/plain": [
       "<IPython.core.display.Markdown object>"
      ]
     },
     "metadata": {},
     "output_type": "display_data"
    },
    {
     "name": "stdout",
     "output_type": "stream",
     "text": [
      "(34189, 18)\n"
     ]
    },
    {
     "data": {
      "text/markdown": [
       "#### Adult training set labels"
      ],
      "text/plain": [
       "<IPython.core.display.Markdown object>"
      ]
     },
     "metadata": {},
     "output_type": "display_data"
    },
    {
     "name": "stdout",
     "output_type": "stream",
     "text": [
      "(['Income Binary'], 1.0, 0.0): Above or below 50K\n"
     ]
    },
    {
     "data": {
      "text/markdown": [
       "#### Adult training set feature names"
      ],
      "text/plain": [
       "<IPython.core.display.Markdown object>"
      ]
     },
     "metadata": {},
     "output_type": "display_data"
    },
    {
     "name": "stdout",
     "output_type": "stream",
     "text": [
      "['race', 'sex', 'Age (decade)=10', 'Age (decade)=20', 'Age (decade)=30', 'Age (decade)=40', 'Age (decade)=50', 'Age (decade)=60', 'Age (decade)=>=70', 'Education Years=6', 'Education Years=7', 'Education Years=8', 'Education Years=9', 'Education Years=10', 'Education Years=11', 'Education Years=12', 'Education Years=<6', 'Education Years=>12']\n"
     ]
    },
    {
     "data": {
      "text/markdown": [
       "#### German dataset training set shape"
      ],
      "text/plain": [
       "<IPython.core.display.Markdown object>"
      ]
     },
     "metadata": {},
     "output_type": "display_data"
    },
    {
     "name": "stdout",
     "output_type": "stream",
     "text": [
      "(700, 11)\n"
     ]
    },
    {
     "data": {
      "text/markdown": [
       "#### German training set label names"
      ],
      "text/plain": [
       "<IPython.core.display.Markdown object>"
      ]
     },
     "metadata": {},
     "output_type": "display_data"
    },
    {
     "name": "stdout",
     "output_type": "stream",
     "text": [
      "(['credit'], 1.0, 2.0): Good or bad credit\n"
     ]
    },
    {
     "data": {
      "text/markdown": [
       "#### German training set feature names"
      ],
      "text/plain": [
       "<IPython.core.display.Markdown object>"
      ]
     },
     "metadata": {},
     "output_type": "display_data"
    },
    {
     "name": "stdout",
     "output_type": "stream",
     "text": [
      "['age', 'sex', 'credit_history=Delay', 'credit_history=None/Paid', 'credit_history=Other', 'savings=500+', 'savings=<500', 'savings=Unknown/None', 'employment=1-4 years', 'employment=4+ years', 'employment=Unemployed']\n"
     ]
    }
   ],
   "source": [
    "display(Markdown(\"#### Adult training set shape\"))\n",
    "print(train.features.shape)\n",
    "display(Markdown(\"#### Adult training set labels\"))\n",
    "print(f\"{train.label_names, train.favorable_label, train.unfavorable_label}: Above or below 50K\")\n",
    "display(Markdown(\"#### Adult training set feature names\"))\n",
    "print(train.feature_names)\n",
    "\n",
    "display(Markdown(\"#### German dataset training set shape\"))\n",
    "print(ger_train.features.shape)\n",
    "display(Markdown(\"#### German training set label names\"))\n",
    "print(f\"{ger_train.label_names, ger_train.favorable_label, ger_train.unfavorable_label}: Good or bad credit\")\n",
    "display(Markdown(\"#### German training set feature names\"))\n",
    "print(ger_train.feature_names)"
   ]
  },
  {
   "cell_type": "markdown",
   "metadata": {},
   "source": [
    "#### Measure bias within the datasets"
   ]
  },
  {
   "cell_type": "code",
   "execution_count": 7,
   "metadata": {},
   "outputs": [
    {
     "data": {
      "text/markdown": [
       "#### Statistical parity difference before any processing or model development"
      ],
      "text/plain": [
       "<IPython.core.display.Markdown object>"
      ]
     },
     "metadata": {},
     "output_type": "display_data"
    },
    {
     "name": "stdout",
     "output_type": "stream",
     "text": [
      "Statistical parity difference in the adult dataset train split is -0.243.\n",
      "Statistical parity difference in the german dataset train split is -0.251.\n"
     ]
    }
   ],
   "source": [
    "adult_train_metrics = BinaryLabelDatasetMetric(train,privileged_groups=privileged_adult, unprivileged_groups=unprivileged_adult)\n",
    "adult_test_metrics = BinaryLabelDatasetMetric(test,privileged_groups=privileged_adult, unprivileged_groups=unprivileged_adult)\n",
    "\n",
    "ger_train_metrics = BinaryLabelDatasetMetric(ger_train,privileged_groups=privileged_german, unprivileged_groups=unprivileged_german)\n",
    "ger_test_metrics = BinaryLabelDatasetMetric(ger_test,privileged_groups=privileged_german, unprivileged_groups=unprivileged_german)\n",
    "\n",
    "adult_train_stat_par_diff = adult_train_metrics.statistical_parity_difference()\n",
    "adult_test_stat_par_diff = adult_test_metrics.statistical_parity_difference()\n",
    "\n",
    "ger_train_stat_par_diff = ger_train_metrics.statistical_parity_difference()\n",
    "ger_test_stat_par_diff = ger_test_metrics.statistical_parity_difference()\n",
    "\n",
    "display(Markdown(\"#### Statistical parity difference before any processing or model development\"))\n",
    "print(f\"Statistical parity difference in the adult dataset train split is {adult_train_stat_par_diff.round(3)}.\")\n",
    "print(f\"Statistical parity difference in the german dataset train split is {ger_train_stat_par_diff.round(3)}.\")"
   ]
  },
  {
   "cell_type": "markdown",
   "metadata": {},
   "source": [
    "#### Create a function to complete five fold validation using multiple values of C with Support Vector Machines (SVM)"
   ]
  },
  {
   "cell_type": "code",
   "execution_count": 8,
   "metadata": {},
   "outputs": [],
   "source": [
    "def Accuracy_Fairness_eval(reg_param_list, train_data, privileged_group, unprivileged_group):\n",
    "\n",
    "    #This dictionary will store C values as keys and scores/metrics as values. Will be returned by the function.\n",
    "    param_and_scores = {}\n",
    "\n",
    "    #Time taken will be measures to view impact of dataset size on speed of SVM.\n",
    "    time_list = []\n",
    "\n",
    "    #5 folds for 5 fold validation\n",
    "    fold1, fold2, fold3, fold4, fold5 = train_data.split(5)\n",
    "    list_of_folds = (fold1, fold2, fold3, fold4, fold5)\n",
    "    \n",
    "    #Used to normalise the data.\n",
    "    scale = StandardScaler()\n",
    "\n",
    "    list_of_fold_labels = (fold1.labels.ravel(), fold2.labels.ravel(), fold3.labels.ravel(), fold4.labels.ravel(), fold5.labels.ravel())\n",
    "    list_of_scaled_fold_features = (scale.fit_transform(fold1.features), scale.fit_transform(fold2.features), scale.fit_transform(fold3.features), scale.fit_transform(fold4.features), scale.fit_transform(fold5.features))\n",
    "    \n",
    "    \n",
    "    #Loop for each value of C.\n",
    "    for reg_param in reg_param_list:\n",
    "        clf = svm.SVC(kernel=\"rbf\", C= reg_param)\n",
    "            \n",
    "        param_and_scores[reg_param] = {}\n",
    "        scores = {}\n",
    "        scores['accuracy']= []\n",
    "        scores['f1_score']=[]\n",
    "        scores['statistical_parity_difference']=[] \n",
    "        scores['disparate_impact']= [] \n",
    "        scores['error_rate_ratio'] = []\n",
    "\n",
    "        for i, item in enumerate(list_of_folds):\n",
    "            if i ==0:\n",
    "                fold_test, train_fold_features, train_fold_labels = list_of_folds[i], np.concatenate(list_of_scaled_fold_features[i+1:]), np.concatenate(list_of_fold_labels[i+1:])\n",
    "                test_features = scale.transform(fold_test.features)\n",
    "\n",
    "            elif i == max(range(len(list_of_folds))):\n",
    "                fold_test, train_fold_features, train_fold_labels  = list_of_folds[i], np.concatenate(list_of_scaled_fold_features[:i]), np.concatenate(list_of_fold_labels[:i])\n",
    "                test_features = scale.transform(fold_test.features)\n",
    "\n",
    "            else:\n",
    "                fold_test, train_fold_features = list_of_folds[i], np.concatenate([np.concatenate(list_of_scaled_fold_features[:i]), np.concatenate(list_of_scaled_fold_features[i+1:])])\n",
    "                train_fold_labels = np.concatenate([np.concatenate(list_of_fold_labels[:i]), np.concatenate(list_of_fold_labels[i+1:])])\n",
    "                test_features = scale.transform(fold_test.features)\n",
    "\n",
    "            start_time = time.time()\n",
    "            \n",
    "            clf.fit(train_fold_features, train_fold_labels)\n",
    "            y_pred = clf.predict(test_features)\n",
    "\n",
    "            end_time = time.time() # Time taken is measured to show impact of data size on svm performace/speed.\n",
    "            time_taken = end_time - start_time\n",
    "            time_list.append(time_taken)\n",
    "\n",
    "            test_pred = fold_test.copy()\n",
    "            test_pred.labels = y_pred\n",
    "            \n",
    "            f1 = f1_score(y_true=fold_test.labels, y_pred=y_pred)\n",
    "            \n",
    "            fairness_metrics = ClassificationMetric(fold_test, test_pred, privileged_groups=privileged_group, unprivileged_groups=unprivileged_group)\n",
    "            scores['accuracy'].append(fairness_metrics.accuracy())\n",
    "            scores['f1_score'].append(f1)\n",
    "            scores['error_rate_ratio'].append(fairness_metrics.error_rate_ratio())  #unprivileged error rate / privilged error rate   \n",
    "            scores['statistical_parity_difference'].append(fairness_metrics.statistical_parity_difference())\n",
    "            scores['disparate_impact'].append(fairness_metrics.disparate_impact()) #want this close to 1.\n",
    "\n",
    "        \n",
    "        scores['accuracy']= np.mean(scores['accuracy'])\n",
    "        scores['f1_score'] = np.mean(scores['f1_score'])\n",
    "        scores['statistical_parity_difference']=np.mean(scores['statistical_parity_difference'])\n",
    "        scores['disparate_impact']= np.mean(scores['disparate_impact'])\n",
    "        scores['error_rate_ratio'] = np.mean(scores['error_rate_ratio'])\n",
    "        param_and_scores[reg_param] = scores\n",
    "    \n",
    "    #Return mean scores/metrics and mean time taken for each fold.\n",
    "    return (param_and_scores, time_list)  "
   ]
  },
  {
   "cell_type": "markdown",
   "metadata": {},
   "source": [
    "#### German and Adult dataset accuracy and fairness evaluation."
   ]
  },
  {
   "cell_type": "code",
   "execution_count": 9,
   "metadata": {},
   "outputs": [
    {
     "name": "stderr",
     "output_type": "stream",
     "text": [
      "invalid value encountered in double_scalars\n",
      "invalid value encountered in double_scalars\n",
      "invalid value encountered in double_scalars\n",
      "invalid value encountered in double_scalars\n",
      "invalid value encountered in double_scalars\n"
     ]
    }
   ],
   "source": [
    "C = (0.001, 0.01, 0.1, 1, 10, 100, 1000)\n",
    "\n",
    "#Adult\n",
    "adult_SVM = Accuracy_Fairness_eval(\n",
    "                                C, \n",
    "                                train_data= train, \n",
    "                                privileged_group=privileged_adult, \n",
    "                                unprivileged_group = unprivileged_adult\n",
    ")\n",
    "\n",
    "#German\n",
    "ger_SVM = Accuracy_Fairness_eval(\n",
    "                                C, \n",
    "                                train_data= ger_train, \n",
    "                                privileged_group= privileged_german, \n",
    "                                unprivileged_group = unprivileged_german\n",
    ")"
   ]
  },
  {
   "cell_type": "markdown",
   "metadata": {},
   "source": [
    "#### View mean time taken for fit and predict per fold"
   ]
  },
  {
   "cell_type": "code",
   "execution_count": 10,
   "metadata": {},
   "outputs": [
    {
     "data": {
      "image/png": "[encoded data removed]",
      "text/plain": [
       "<Figure size 432x288 with 1 Axes>"
      ]
     },
     "metadata": {
      "needs_background": "light"
     },
     "output_type": "display_data"
    }
   ],
   "source": [
    "datasets = [\"Adult\", \"German\"]\n",
    "times = [np.mean(adult_SVM[1]), np.mean(ger_SVM[1])]\n",
    "\n",
    "fig, ax = plt.subplots()\n",
    "p1 = sns.barplot(y=datasets, x=times)\n",
    "plt.title(\"Time taken to fit and predict with each fold in 5-fold validation\", fontsize = 13)\n",
    "plt.xlabel(\" Mean time (seconds)\", fontsize = 12)\n",
    "\n",
    "plt.rc('xtick', labelsize=12) \n",
    "plt.rc('ytick', labelsize=12)\n",
    "plt.yticks(rotation = 30)\n",
    "\n",
    "plt.savefig('Time taken per fold')"
   ]
  },
  {
   "cell_type": "code",
   "execution_count": 11,
   "metadata": {},
   "outputs": [
    {
     "data": {
      "text/markdown": [
       "#### Mean time taken per fold"
      ],
      "text/plain": [
       "<IPython.core.display.Markdown object>"
      ]
     },
     "metadata": {},
     "output_type": "display_data"
    },
    {
     "name": "stdout",
     "output_type": "stream",
     "text": [
      "Adult: 50.18\n",
      "German: 0.02\n"
     ]
    }
   ],
   "source": [
    "display(Markdown(\"#### Mean time taken per fold\"))\n",
    "print(f\"Adult: {round(np.mean(adult_SVM[1]),2)}\")\n",
    "print(f\"German: {round(np.mean(ger_SVM[1]),2)}\")"
   ]
  },
  {
   "cell_type": "markdown",
   "metadata": {},
   "source": [
    "#### Preview data obtained from 5-fold validation"
   ]
  },
  {
   "cell_type": "code",
   "execution_count": 12,
   "metadata": {},
   "outputs": [
    {
     "data": {
      "text/plain": [
       "{'accuracy': 0.8038258057950172,\n",
       " 'f1_score': 0.48909875249117213,\n",
       " 'statistical_parity_difference': -0.23039424959253446,\n",
       " 'disparate_impact': 0.0,\n",
       " 'error_rate_ratio': 0.298152889776646}"
      ]
     },
     "execution_count": 12,
     "metadata": {},
     "output_type": "execute_result"
    }
   ],
   "source": [
    "adult_SVM[0][1]"
   ]
  },
  {
   "cell_type": "markdown",
   "metadata": {},
   "source": [
    "#### Convert dictionaries/data to pandas dataframes and explore"
   ]
  },
  {
   "cell_type": "code",
   "execution_count": 13,
   "metadata": {},
   "outputs": [],
   "source": [
    "adult_SVM_df = pd.DataFrame(adult_SVM[0])\n",
    "adult_SVM_df = adult_SVM_df.swapaxes('index', 'columns')\n",
    "adult_SVM_df = adult_SVM_df.reset_index()\n",
    "adult_SVM_df = adult_SVM_df.rename(columns={'index': 'regularisation_parameter'})\n",
    "adult_SVM_df['dataset'] = 'Adult'\n",
    "\n",
    "ger_SVM_df = pd.DataFrame(ger_SVM[0])\n",
    "ger_SVM_df = ger_SVM_df.swapaxes('index', 'columns')\n",
    "ger_SVM_df = ger_SVM_df.reset_index()\n",
    "ger_SVM_df = ger_SVM_df.rename(columns={'index': 'regularisation_parameter'})\n",
    "ger_SVM_df['dataset'] = 'German'\n",
    "\n",
    "frames = (adult_SVM_df, ger_SVM_df)\n",
    "adult_ger_df = pd.concat(frames)\n",
    "adult_ger_df = adult_ger_df.reset_index(drop=True)\n",
    "adult_ger_df['Processing'] = 'None'\n",
    "adult_ger_df['err_rate_ratio_absolute_dist_to_1'] = abs(1 - adult_ger_df.error_rate_ratio)"
   ]
  },
  {
   "cell_type": "code",
   "execution_count": 14,
   "metadata": {},
   "outputs": [
    {
     "data": {
      "text/html": [
       "<div>\n",
       "<style scoped>\n",
       "    .dataframe tbody tr th:only-of-type {\n",
       "        vertical-align: middle;\n",
       "    }\n",
       "\n",
       "    .dataframe tbody tr th {\n",
       "        vertical-align: top;\n",
       "    }\n",
       "\n",
       "    .dataframe thead th {\n",
       "        text-align: right;\n",
       "    }\n",
       "</style>\n",
       "<table border=\"1\" class=\"dataframe\">\n",
       "  <thead>\n",
       "    <tr style=\"text-align: right;\">\n",
       "      <th></th>\n",
       "      <th>regularisation_parameter</th>\n",
       "      <th>dataset</th>\n",
       "      <th>accuracy</th>\n",
       "      <th>f1_score</th>\n",
       "    </tr>\n",
       "  </thead>\n",
       "  <tbody>\n",
       "    <tr>\n",
       "      <th>0</th>\n",
       "      <td>1.000</td>\n",
       "      <td>Adult</td>\n",
       "      <td>0.803826</td>\n",
       "      <td>0.489099</td>\n",
       "    </tr>\n",
       "    <tr>\n",
       "      <th>1</th>\n",
       "      <td>100.000</td>\n",
       "      <td>Adult</td>\n",
       "      <td>0.803387</td>\n",
       "      <td>0.494237</td>\n",
       "    </tr>\n",
       "    <tr>\n",
       "      <th>2</th>\n",
       "      <td>0.100</td>\n",
       "      <td>Adult</td>\n",
       "      <td>0.803036</td>\n",
       "      <td>0.489893</td>\n",
       "    </tr>\n",
       "    <tr>\n",
       "      <th>3</th>\n",
       "      <td>1000.000</td>\n",
       "      <td>Adult</td>\n",
       "      <td>0.802919</td>\n",
       "      <td>0.497160</td>\n",
       "    </tr>\n",
       "    <tr>\n",
       "      <th>4</th>\n",
       "      <td>10.000</td>\n",
       "      <td>Adult</td>\n",
       "      <td>0.802831</td>\n",
       "      <td>0.492555</td>\n",
       "    </tr>\n",
       "    <tr>\n",
       "      <th>5</th>\n",
       "      <td>0.010</td>\n",
       "      <td>Adult</td>\n",
       "      <td>0.797069</td>\n",
       "      <td>0.467770</td>\n",
       "    </tr>\n",
       "    <tr>\n",
       "      <th>6</th>\n",
       "      <td>0.001</td>\n",
       "      <td>Adult</td>\n",
       "      <td>0.759425</td>\n",
       "      <td>0.000000</td>\n",
       "    </tr>\n",
       "    <tr>\n",
       "      <th>7</th>\n",
       "      <td>1.000</td>\n",
       "      <td>German</td>\n",
       "      <td>0.710000</td>\n",
       "      <td>0.821485</td>\n",
       "    </tr>\n",
       "    <tr>\n",
       "      <th>8</th>\n",
       "      <td>10.000</td>\n",
       "      <td>German</td>\n",
       "      <td>0.704286</td>\n",
       "      <td>0.813382</td>\n",
       "    </tr>\n",
       "    <tr>\n",
       "      <th>9</th>\n",
       "      <td>0.001</td>\n",
       "      <td>German</td>\n",
       "      <td>0.700000</td>\n",
       "      <td>0.822747</td>\n",
       "    </tr>\n",
       "    <tr>\n",
       "      <th>10</th>\n",
       "      <td>0.010</td>\n",
       "      <td>German</td>\n",
       "      <td>0.700000</td>\n",
       "      <td>0.822747</td>\n",
       "    </tr>\n",
       "    <tr>\n",
       "      <th>11</th>\n",
       "      <td>0.100</td>\n",
       "      <td>German</td>\n",
       "      <td>0.700000</td>\n",
       "      <td>0.822747</td>\n",
       "    </tr>\n",
       "    <tr>\n",
       "      <th>12</th>\n",
       "      <td>100.000</td>\n",
       "      <td>German</td>\n",
       "      <td>0.684286</td>\n",
       "      <td>0.795390</td>\n",
       "    </tr>\n",
       "    <tr>\n",
       "      <th>13</th>\n",
       "      <td>1000.000</td>\n",
       "      <td>German</td>\n",
       "      <td>0.671429</td>\n",
       "      <td>0.780446</td>\n",
       "    </tr>\n",
       "  </tbody>\n",
       "</table>\n",
       "</div>"
      ],
      "text/plain": [
       "    regularisation_parameter dataset  accuracy  f1_score\n",
       "0                      1.000   Adult  0.803826  0.489099\n",
       "1                    100.000   Adult  0.803387  0.494237\n",
       "2                      0.100   Adult  0.803036  0.489893\n",
       "3                   1000.000   Adult  0.802919  0.497160\n",
       "4                     10.000   Adult  0.802831  0.492555\n",
       "5                      0.010   Adult  0.797069  0.467770\n",
       "6                      0.001   Adult  0.759425  0.000000\n",
       "7                      1.000  German  0.710000  0.821485\n",
       "8                     10.000  German  0.704286  0.813382\n",
       "9                      0.001  German  0.700000  0.822747\n",
       "10                     0.010  German  0.700000  0.822747\n",
       "11                     0.100  German  0.700000  0.822747\n",
       "12                   100.000  German  0.684286  0.795390\n",
       "13                  1000.000  German  0.671429  0.780446"
      ]
     },
     "execution_count": 14,
     "metadata": {},
     "output_type": "execute_result"
    }
   ],
   "source": [
    "most_acc_question_one_by_set = adult_ger_df[['regularisation_parameter','dataset' ,'accuracy', 'f1_score']].groupby(by=['regularisation_parameter', 'dataset']).mean().sort_values(by='accuracy', ascending=False)\n",
    "most_acc_question_one_by_set = most_acc_question_one_by_set.reset_index( )\n",
    "most_acc_question_one_by_set"
   ]
  },
  {
   "cell_type": "code",
   "execution_count": 15,
   "metadata": {},
   "outputs": [],
   "source": [
    "#This function displays values in seaborn barplots.\n",
    "#Code adapted from https://www.statology.org/seaborn-barplot-show-values/\n",
    "def show_values(axs, orient=\"v\", space=.01):\n",
    "    def _single(ax):\n",
    "        if orient == \"v\":\n",
    "            for p in ax.patches:\n",
    "                _x = p.get_x() + p.get_width() / 2\n",
    "                _y = p.get_y() + p.get_height() + (p.get_height()*0.01)\n",
    "                value = '{:.3}'.format(p.get_height())\n",
    "                ax.text(_x, _y, value, ha=\"center\") \n",
    "        elif orient == \"h\":\n",
    "            for p in ax.patches:\n",
    "                _x = p.get_x() + p.get_width() + float(space)\n",
    "                _y = p.get_y() + p.get_height() - (p.get_height()*0.5)\n",
    "                value = '{:.3f}'.format(p.get_width())\n",
    "                ax.text(_x, _y, value, ha=\"left\")\n",
    "\n",
    "    if isinstance(axs, np.ndarray):\n",
    "        for idx, ax in np.ndenumerate(axs):\n",
    "            _single(ax)\n",
    "    else:\n",
    "        _single(axs)"
   ]
  },
  {
   "cell_type": "markdown",
   "metadata": {},
   "source": [
    "#### Plot results"
   ]
  },
  {
   "cell_type": "code",
   "execution_count": 16,
   "metadata": {},
   "outputs": [
    {
     "data": {
      "image/png": "[encoded data removed]",
      "text/plain": [
       "<Figure size 432x288 with 1 Axes>"
      ]
     },
     "metadata": {
      "needs_background": "light"
     },
     "output_type": "display_data"
    }
   ],
   "source": [
    "fig = plt.figure()\n",
    "p1 = sns.barplot(\n",
    "                x = most_acc_question_one_by_set.regularisation_parameter, \n",
    "                y=most_acc_question_one_by_set.accuracy, \n",
    "                hue = most_acc_question_one_by_set.dataset\n",
    ")\n",
    "\n",
    "plt.ylim((0.65, 0.85))\n",
    "plt.title(\"Accuracy and regularisation parameter for each dataset\", fontsize = 13)\n",
    "plt.xlabel(\"C value\", fontsize =12)\n",
    "plt.ylabel(\"Mean accuracy score\", fontsize =12)\n",
    "plt.legend(loc = 5)\n",
    "show_values(p1)\n",
    "fig.savefig('Q1 accuracy per dataset.jpg', bbox_inches='tight', dpi=150)"
   ]
  },
  {
   "cell_type": "code",
   "execution_count": 17,
   "metadata": {},
   "outputs": [
    {
     "data": {
      "image/png": "[encoded data removed]",
      "text/plain": [
       "<Figure size 432x288 with 1 Axes>"
      ]
     },
     "metadata": {
      "needs_background": "light"
     },
     "output_type": "display_data"
    }
   ],
   "source": [
    "grouped_q1_most_acc = adult_ger_df[[\n",
    "                                    'regularisation_parameter',\n",
    "                                    'dataset' ,\n",
    "                                    'accuracy', \n",
    "                                    'f1_score'\n",
    "                                    ]]\n",
    "                                    \n",
    "grouped_q1_most_acc = grouped_q1_most_acc.groupby(by=['regularisation_parameter']).mean().sort_values(by='accuracy', ascending=False)\n",
    "grouped_q1_most_acc = grouped_q1_most_acc.reset_index()\n",
    "\n",
    "p2 = sns.barplot(\n",
    "                x = grouped_q1_most_acc.regularisation_parameter, \n",
    "                y=grouped_q1_most_acc.accuracy\n",
    ")\n",
    "\n",
    "plt.ylim((0.65, 0.8))\n",
    "plt.title(\"Aggregate accuracy and regularisation parameter\", fontsize =13)\n",
    "plt.xlabel(\"C value\", fontsize = 12)\n",
    "plt.ylabel(\"Mean accuracy score\", fontsize = 12)\n",
    "show_values(p2)\n",
    "plt.savefig('aggregate accuracy q1', bbox_inches='tight', dpi=150)"
   ]
  },
  {
   "cell_type": "code",
   "execution_count": 18,
   "metadata": {},
   "outputs": [
    {
     "data": {
      "text/html": [
       "<div>\n",
       "<style scoped>\n",
       "    .dataframe tbody tr th:only-of-type {\n",
       "        vertical-align: middle;\n",
       "    }\n",
       "\n",
       "    .dataframe tbody tr th {\n",
       "        vertical-align: top;\n",
       "    }\n",
       "\n",
       "    .dataframe thead th {\n",
       "        text-align: right;\n",
       "    }\n",
       "</style>\n",
       "<table border=\"1\" class=\"dataframe\">\n",
       "  <thead>\n",
       "    <tr style=\"text-align: right;\">\n",
       "      <th></th>\n",
       "      <th></th>\n",
       "      <th>accuracy</th>\n",
       "      <th>f1_score</th>\n",
       "      <th>statistical_parity_difference</th>\n",
       "      <th>disparate_impact</th>\n",
       "      <th>error_rate_ratio</th>\n",
       "      <th>err_rate_ratio_absolute_dist_to_1</th>\n",
       "    </tr>\n",
       "    <tr>\n",
       "      <th>regularisation_parameter</th>\n",
       "      <th>dataset</th>\n",
       "      <th></th>\n",
       "      <th></th>\n",
       "      <th></th>\n",
       "      <th></th>\n",
       "      <th></th>\n",
       "      <th></th>\n",
       "    </tr>\n",
       "  </thead>\n",
       "  <tbody>\n",
       "    <tr>\n",
       "      <th>1000.000</th>\n",
       "      <th>German</th>\n",
       "      <td>0.671</td>\n",
       "      <td>0.780</td>\n",
       "      <td>-0.462</td>\n",
       "      <td>0.506</td>\n",
       "      <td>1.373</td>\n",
       "      <td>0.373</td>\n",
       "    </tr>\n",
       "    <tr>\n",
       "      <th>100.000</th>\n",
       "      <th>German</th>\n",
       "      <td>0.684</td>\n",
       "      <td>0.795</td>\n",
       "      <td>-0.508</td>\n",
       "      <td>0.473</td>\n",
       "      <td>1.423</td>\n",
       "      <td>0.423</td>\n",
       "    </tr>\n",
       "    <tr>\n",
       "      <th>10.000</th>\n",
       "      <th>German</th>\n",
       "      <td>0.704</td>\n",
       "      <td>0.813</td>\n",
       "      <td>-0.503</td>\n",
       "      <td>0.489</td>\n",
       "      <td>1.508</td>\n",
       "      <td>0.508</td>\n",
       "    </tr>\n",
       "    <tr>\n",
       "      <th>1.000</th>\n",
       "      <th>German</th>\n",
       "      <td>0.710</td>\n",
       "      <td>0.821</td>\n",
       "      <td>-0.531</td>\n",
       "      <td>0.468</td>\n",
       "      <td>1.686</td>\n",
       "      <td>0.686</td>\n",
       "    </tr>\n",
       "    <tr>\n",
       "      <th>100.000</th>\n",
       "      <th>Adult</th>\n",
       "      <td>0.803</td>\n",
       "      <td>0.494</td>\n",
       "      <td>-0.237</td>\n",
       "      <td>0.006</td>\n",
       "      <td>0.303</td>\n",
       "      <td>0.697</td>\n",
       "    </tr>\n",
       "    <tr>\n",
       "      <th>1000.000</th>\n",
       "      <th>Adult</th>\n",
       "      <td>0.803</td>\n",
       "      <td>0.497</td>\n",
       "      <td>-0.242</td>\n",
       "      <td>0.005</td>\n",
       "      <td>0.302</td>\n",
       "      <td>0.698</td>\n",
       "    </tr>\n",
       "    <tr>\n",
       "      <th>1.000</th>\n",
       "      <th>Adult</th>\n",
       "      <td>0.804</td>\n",
       "      <td>0.489</td>\n",
       "      <td>-0.230</td>\n",
       "      <td>0.000</td>\n",
       "      <td>0.298</td>\n",
       "      <td>0.702</td>\n",
       "    </tr>\n",
       "    <tr>\n",
       "      <th>0.100</th>\n",
       "      <th>Adult</th>\n",
       "      <td>0.803</td>\n",
       "      <td>0.490</td>\n",
       "      <td>-0.224</td>\n",
       "      <td>0.000</td>\n",
       "      <td>0.298</td>\n",
       "      <td>0.702</td>\n",
       "    </tr>\n",
       "    <tr>\n",
       "      <th>10.000</th>\n",
       "      <th>Adult</th>\n",
       "      <td>0.803</td>\n",
       "      <td>0.493</td>\n",
       "      <td>-0.237</td>\n",
       "      <td>0.002</td>\n",
       "      <td>0.298</td>\n",
       "      <td>0.702</td>\n",
       "    </tr>\n",
       "    <tr>\n",
       "      <th>0.010</th>\n",
       "      <th>Adult</th>\n",
       "      <td>0.797</td>\n",
       "      <td>0.468</td>\n",
       "      <td>-0.205</td>\n",
       "      <td>0.000</td>\n",
       "      <td>0.292</td>\n",
       "      <td>0.708</td>\n",
       "    </tr>\n",
       "    <tr>\n",
       "      <th rowspan=\"2\" valign=\"top\">0.001</th>\n",
       "      <th>Adult</th>\n",
       "      <td>0.759</td>\n",
       "      <td>0.000</td>\n",
       "      <td>0.000</td>\n",
       "      <td>NaN</td>\n",
       "      <td>0.230</td>\n",
       "      <td>0.770</td>\n",
       "    </tr>\n",
       "    <tr>\n",
       "      <th>German</th>\n",
       "      <td>0.700</td>\n",
       "      <td>0.823</td>\n",
       "      <td>0.000</td>\n",
       "      <td>1.000</td>\n",
       "      <td>2.027</td>\n",
       "      <td>1.027</td>\n",
       "    </tr>\n",
       "    <tr>\n",
       "      <th>0.010</th>\n",
       "      <th>German</th>\n",
       "      <td>0.700</td>\n",
       "      <td>0.823</td>\n",
       "      <td>0.000</td>\n",
       "      <td>1.000</td>\n",
       "      <td>2.027</td>\n",
       "      <td>1.027</td>\n",
       "    </tr>\n",
       "    <tr>\n",
       "      <th>0.100</th>\n",
       "      <th>German</th>\n",
       "      <td>0.700</td>\n",
       "      <td>0.823</td>\n",
       "      <td>0.000</td>\n",
       "      <td>1.000</td>\n",
       "      <td>2.027</td>\n",
       "      <td>1.027</td>\n",
       "    </tr>\n",
       "  </tbody>\n",
       "</table>\n",
       "</div>"
      ],
      "text/plain": [
       "                                  accuracy  f1_score  \\\n",
       "regularisation_parameter dataset                       \n",
       "1000.000                 German      0.671     0.780   \n",
       "100.000                  German      0.684     0.795   \n",
       "10.000                   German      0.704     0.813   \n",
       "1.000                    German      0.710     0.821   \n",
       "100.000                  Adult       0.803     0.494   \n",
       "1000.000                 Adult       0.803     0.497   \n",
       "1.000                    Adult       0.804     0.489   \n",
       "0.100                    Adult       0.803     0.490   \n",
       "10.000                   Adult       0.803     0.493   \n",
       "0.010                    Adult       0.797     0.468   \n",
       "0.001                    Adult       0.759     0.000   \n",
       "                         German      0.700     0.823   \n",
       "0.010                    German      0.700     0.823   \n",
       "0.100                    German      0.700     0.823   \n",
       "\n",
       "                                  statistical_parity_difference  \\\n",
       "regularisation_parameter dataset                                  \n",
       "1000.000                 German                          -0.462   \n",
       "100.000                  German                          -0.508   \n",
       "10.000                   German                          -0.503   \n",
       "1.000                    German                          -0.531   \n",
       "100.000                  Adult                           -0.237   \n",
       "1000.000                 Adult                           -0.242   \n",
       "1.000                    Adult                           -0.230   \n",
       "0.100                    Adult                           -0.224   \n",
       "10.000                   Adult                           -0.237   \n",
       "0.010                    Adult                           -0.205   \n",
       "0.001                    Adult                            0.000   \n",
       "                         German                           0.000   \n",
       "0.010                    German                           0.000   \n",
       "0.100                    German                           0.000   \n",
       "\n",
       "                                  disparate_impact  error_rate_ratio  \\\n",
       "regularisation_parameter dataset                                       \n",
       "1000.000                 German              0.506             1.373   \n",
       "100.000                  German              0.473             1.423   \n",
       "10.000                   German              0.489             1.508   \n",
       "1.000                    German              0.468             1.686   \n",
       "100.000                  Adult               0.006             0.303   \n",
       "1000.000                 Adult               0.005             0.302   \n",
       "1.000                    Adult               0.000             0.298   \n",
       "0.100                    Adult               0.000             0.298   \n",
       "10.000                   Adult               0.002             0.298   \n",
       "0.010                    Adult               0.000             0.292   \n",
       "0.001                    Adult                 NaN             0.230   \n",
       "                         German              1.000             2.027   \n",
       "0.010                    German              1.000             2.027   \n",
       "0.100                    German              1.000             2.027   \n",
       "\n",
       "                                  err_rate_ratio_absolute_dist_to_1  \n",
       "regularisation_parameter dataset                                     \n",
       "1000.000                 German                               0.373  \n",
       "100.000                  German                               0.423  \n",
       "10.000                   German                               0.508  \n",
       "1.000                    German                               0.686  \n",
       "100.000                  Adult                                0.697  \n",
       "1000.000                 Adult                                0.698  \n",
       "1.000                    Adult                                0.702  \n",
       "0.100                    Adult                                0.702  \n",
       "10.000                   Adult                                0.702  \n",
       "0.010                    Adult                                0.708  \n",
       "0.001                    Adult                                0.770  \n",
       "                         German                               1.027  \n",
       "0.010                    German                               1.027  \n",
       "0.100                    German                               1.027  "
      ]
     },
     "execution_count": 18,
     "metadata": {},
     "output_type": "execute_result"
    }
   ],
   "source": [
    "#Order data by absolute distance to 1 of the ERR to select the most fair.\n",
    "adult_ger_df.groupby(by=['regularisation_parameter', 'dataset']).mean().sort_values(by='err_rate_ratio_absolute_dist_to_1', ascending=True).round(3)"
   ]
  },
  {
   "cell_type": "code",
   "execution_count": 19,
   "metadata": {},
   "outputs": [
    {
     "data": {
      "image/png": "[encoded data removed]",
      "text/plain": [
       "<Figure size 432x288 with 1 Axes>"
      ]
     },
     "metadata": {
      "needs_background": "light"
     },
     "output_type": "display_data"
    }
   ],
   "source": [
    "q1_most_fair = adult_ger_df[[\n",
    "                            'regularisation_parameter', \n",
    "                            'dataset', 'err_rate_ratio_absolute_dist_to_1', \n",
    "                            'error_rate_ratio', \n",
    "                            'disparate_impact', \n",
    "                            'statistical_parity_difference'\n",
    "                            ]]\n",
    "                            \n",
    "q1_most_fair = q1_most_fair.groupby(by=['regularisation_parameter']).mean().sort_values(by='err_rate_ratio_absolute_dist_to_1', ascending=True)\n",
    "q1_most_fair = q1_most_fair.round(3).reset_index()\n",
    "\n",
    "p3 = sns.barplot(\n",
    "                x = q1_most_fair.regularisation_parameter, \n",
    "                y=q1_most_fair.err_rate_ratio_absolute_dist_to_1\n",
    ")\n",
    "\n",
    "plt.title(\"Aggregate mean absolute distance to 1 of error rate ratio\", fontsize =13)\n",
    "plt.xlabel(\"C value\", fontsize = 12)\n",
    "plt.ylabel(\"Mean absolute distance to 1 of error rate ratio\", fontsize = 12)\n",
    "show_values(p3)\n",
    "plt.savefig('Aggregate fairness q1', bbox_inches='tight', dpi=150)\n"
   ]
  },
  {
   "cell_type": "markdown",
   "metadata": {},
   "source": [
    "#### Create a function to build and evaluate the chosen models using the train and test sets (most fair and most accurate)"
   ]
  },
  {
   "cell_type": "code",
   "execution_count": 20,
   "metadata": {},
   "outputs": [],
   "source": [
    "def model_chosen(c_value, train_data, test_data, privileged_group, unprivileged_group, gamma=\"scale\"):\n",
    "\n",
    "    scale = StandardScaler()\n",
    "    X_train = scale.fit_transform(train_data.features)\n",
    "    Y_train = train_data.labels.ravel()\n",
    "    \n",
    "    X_test = scale.transform(test_data.features)\n",
    "    \n",
    "\n",
    "    clf = svm.SVC(C=c_value, kernel='rbf', gamma=gamma)\n",
    "    clf.fit(X_train, Y_train)\n",
    "\n",
    "    y_pred = clf.predict(X_test)\n",
    "\n",
    "    test_pred = test_data.copy()\n",
    "    test_pred.labels = y_pred\n",
    "                \n",
    "    f1 = f1_score(y_true=test_data.labels, y_pred=y_pred)\n",
    "                \n",
    "    fairness_metrics = ClassificationMetric(test_data, test_pred, privileged_groups=privileged_group, unprivileged_groups=unprivileged_group)\n",
    "    scores = {}\n",
    "    scores['f1'] = f1\n",
    "    scores['accuracy'] = fairness_metrics.accuracy()\n",
    "    scores['error rate ratio'] = fairness_metrics.error_rate_ratio() \n",
    "    scores['stat par diff'] = fairness_metrics.statistical_parity_difference()\n",
    "    scores['disparat_impact'] = fairness_metrics.disparate_impact()\n",
    "    return scores"
   ]
  },
  {
   "cell_type": "code",
   "execution_count": 21,
   "metadata": {},
   "outputs": [],
   "source": [
    "adult_most_accurate = model_chosen(c_value=1, train_data=train, test_data=test, privileged_group=privileged_adult, unprivileged_group=unprivileged_adult)"
   ]
  },
  {
   "cell_type": "code",
   "execution_count": 22,
   "metadata": {},
   "outputs": [
    {
     "data": {
      "text/markdown": [
       "#### Most accurate model using the Adult dataset."
      ],
      "text/plain": [
       "<IPython.core.display.Markdown object>"
      ]
     },
     "metadata": {},
     "output_type": "display_data"
    },
    {
     "name": "stdout",
     "output_type": "stream",
     "text": [
      "The accuracy score in the adult dataset of the final model chosen for accuracy is: 0.804.\n",
      "The F1 score in the adult dataset of the final model chosen for accuracy is: 0.473.\n"
     ]
    }
   ],
   "source": [
    "display(Markdown(\"#### Most accurate model using the Adult dataset.\"))\n",
    "print(\"The accuracy score in the adult dataset of the final model chosen for accuracy is: {}.\".format(adult_most_accurate['accuracy'].round(3)))\n",
    "print(\"The F1 score in the adult dataset of the final model chosen for accuracy is: {}.\".format(adult_most_accurate['f1'].round(3)))"
   ]
  },
  {
   "cell_type": "code",
   "execution_count": 23,
   "metadata": {},
   "outputs": [
    {
     "data": {
      "text/markdown": [
       "#### Most accurate model using the German dataset."
      ],
      "text/plain": [
       "<IPython.core.display.Markdown object>"
      ]
     },
     "metadata": {},
     "output_type": "display_data"
    },
    {
     "name": "stdout",
     "output_type": "stream",
     "text": [
      "The accuracy score in the german dataset of the final model chosen for accuracy is: 0.693.\n",
      "The F1 score in the german dataset of the final model chosen for accuracy is: 0.815.\n"
     ]
    }
   ],
   "source": [
    "display(Markdown(\"#### Most accurate model using the German dataset.\"))\n",
    "ger_most_accurate = model_chosen(c_value=1, train_data=ger_train, test_data=ger_test, privileged_group=privileged_german, unprivileged_group=unprivileged_german)\n",
    "print(\"The accuracy score in the german dataset of the final model chosen for accuracy is: {}.\".format(ger_most_accurate['accuracy'].round(3)))\n",
    "print(\"The F1 score in the german dataset of the final model chosen for accuracy is: {}.\".format(ger_most_accurate['f1'].round(3)))"
   ]
  },
  {
   "cell_type": "markdown",
   "metadata": {},
   "source": [
    "#### Dataframe of the results"
   ]
  },
  {
   "cell_type": "code",
   "execution_count": 24,
   "metadata": {},
   "outputs": [
    {
     "data": {
      "text/html": [
       "<div>\n",
       "<style scoped>\n",
       "    .dataframe tbody tr th:only-of-type {\n",
       "        vertical-align: middle;\n",
       "    }\n",
       "\n",
       "    .dataframe tbody tr th {\n",
       "        vertical-align: top;\n",
       "    }\n",
       "\n",
       "    .dataframe thead th {\n",
       "        text-align: right;\n",
       "    }\n",
       "</style>\n",
       "<table border=\"1\" class=\"dataframe\">\n",
       "  <thead>\n",
       "    <tr style=\"text-align: right;\">\n",
       "      <th></th>\n",
       "      <th>f1</th>\n",
       "      <th>accuracy</th>\n",
       "      <th>error rate ratio</th>\n",
       "      <th>stat par diff</th>\n",
       "      <th>disparat_impact</th>\n",
       "      <th>dataset</th>\n",
       "    </tr>\n",
       "  </thead>\n",
       "  <tbody>\n",
       "    <tr>\n",
       "      <th>0</th>\n",
       "      <td>0.473453</td>\n",
       "      <td>0.803726</td>\n",
       "      <td>0.274701</td>\n",
       "      <td>-0.214654</td>\n",
       "      <td>0.000000</td>\n",
       "      <td>Adult</td>\n",
       "    </tr>\n",
       "    <tr>\n",
       "      <th>1</th>\n",
       "      <td>0.815261</td>\n",
       "      <td>0.693333</td>\n",
       "      <td>0.661962</td>\n",
       "      <td>-0.318105</td>\n",
       "      <td>0.676976</td>\n",
       "      <td>German</td>\n",
       "    </tr>\n",
       "  </tbody>\n",
       "</table>\n",
       "</div>"
      ],
      "text/plain": [
       "         f1  accuracy  error rate ratio  stat par diff  disparat_impact  \\\n",
       "0  0.473453  0.803726          0.274701      -0.214654         0.000000   \n",
       "1  0.815261  0.693333          0.661962      -0.318105         0.676976   \n",
       "\n",
       "  dataset  \n",
       "0   Adult  \n",
       "1  German  "
      ]
     },
     "execution_count": 24,
     "metadata": {},
     "output_type": "execute_result"
    }
   ],
   "source": [
    "final_adult_accuracy_df = pd.DataFrame(adult_most_accurate, index = [0])\n",
    "final_adult_accuracy_df['dataset'] = 'Adult'\n",
    "\n",
    "final_german_accuracy_df = pd.DataFrame(ger_most_accurate, index = [1])\n",
    "final_german_accuracy_df['dataset'] = 'German'\n",
    "\n",
    "final_accurates_df = pd.concat((final_adult_accuracy_df, final_german_accuracy_df))\n",
    "final_accurates_df"
   ]
  },
  {
   "cell_type": "code",
   "execution_count": 25,
   "metadata": {},
   "outputs": [],
   "source": [
    "adult_most_fair = model_chosen(\n",
    "                                c_value=1000, \n",
    "                                train_data=train, \n",
    "                                test_data=test, \n",
    "                                privileged_group=privileged_adult, \n",
    "                                unprivileged_group=unprivileged_adult\n",
    ")\n",
    "\n",
    "ger_most_fair = model_chosen(\n",
    "                            c_value=1000, \n",
    "                            train_data=ger_train, \n",
    "                            test_data=ger_test, \n",
    "                            privileged_group=privileged_german, \n",
    "                            unprivileged_group=unprivileged_german\n",
    ")"
   ]
  },
  {
   "cell_type": "code",
   "execution_count": 26,
   "metadata": {},
   "outputs": [
    {
     "data": {
      "text/html": [
       "<div>\n",
       "<style scoped>\n",
       "    .dataframe tbody tr th:only-of-type {\n",
       "        vertical-align: middle;\n",
       "    }\n",
       "\n",
       "    .dataframe tbody tr th {\n",
       "        vertical-align: top;\n",
       "    }\n",
       "\n",
       "    .dataframe thead th {\n",
       "        text-align: right;\n",
       "    }\n",
       "</style>\n",
       "<table border=\"1\" class=\"dataframe\">\n",
       "  <thead>\n",
       "    <tr style=\"text-align: right;\">\n",
       "      <th></th>\n",
       "      <th>f1</th>\n",
       "      <th>accuracy</th>\n",
       "      <th>error rate ratio</th>\n",
       "      <th>stat par diff</th>\n",
       "      <th>disparat_impact</th>\n",
       "      <th>dataset</th>\n",
       "      <th>err_rate_ratio_absolute_dist_to_1</th>\n",
       "    </tr>\n",
       "  </thead>\n",
       "  <tbody>\n",
       "    <tr>\n",
       "      <th>0</th>\n",
       "      <td>0.479</td>\n",
       "      <td>0.804</td>\n",
       "      <td>0.275</td>\n",
       "      <td>-0.220</td>\n",
       "      <td>0.000</td>\n",
       "      <td>Adult</td>\n",
       "      <td>0.725</td>\n",
       "    </tr>\n",
       "    <tr>\n",
       "      <th>1</th>\n",
       "      <td>0.808</td>\n",
       "      <td>0.687</td>\n",
       "      <td>0.912</td>\n",
       "      <td>-0.396</td>\n",
       "      <td>0.595</td>\n",
       "      <td>German</td>\n",
       "      <td>0.088</td>\n",
       "    </tr>\n",
       "  </tbody>\n",
       "</table>\n",
       "</div>"
      ],
      "text/plain": [
       "      f1  accuracy  error rate ratio  stat par diff  disparat_impact dataset  \\\n",
       "0  0.479     0.804             0.275         -0.220            0.000   Adult   \n",
       "1  0.808     0.687             0.912         -0.396            0.595  German   \n",
       "\n",
       "   err_rate_ratio_absolute_dist_to_1  \n",
       "0                              0.725  \n",
       "1                              0.088  "
      ]
     },
     "execution_count": 26,
     "metadata": {},
     "output_type": "execute_result"
    }
   ],
   "source": [
    "final_adult_fair_df = pd.DataFrame(adult_most_fair, index = [0])\n",
    "final_adult_fair_df['dataset'] = 'Adult'\n",
    "\n",
    "final_german_fair_df = pd.DataFrame(ger_most_fair, index = [1])\n",
    "final_german_fair_df['dataset'] = 'German'\n",
    "\n",
    "final_fair_df = pd.concat((final_adult_fair_df, final_german_fair_df))\n",
    "final_fair_df['err_rate_ratio_absolute_dist_to_1'] = abs(1-final_fair_df['error rate ratio'])\n",
    "final_fair_df.round(3)"
   ]
  },
  {
   "cell_type": "markdown",
   "metadata": {},
   "source": [
    "### Optimised Preprocessing"
   ]
  },
  {
   "cell_type": "code",
   "execution_count": 27,
   "metadata": {},
   "outputs": [
    {
     "name": "stderr",
     "output_type": "stream",
     "text": [
      "Privileged and unprivileged groups specified will not be used. The protected attributes are directly specified in the data preprocessing function. The current implementation automatically adjusts for discrimination across all groups. This can be changed by changing the optimization code.\n",
      "\n",
      "This use of ``*`` has resulted in matrix multiplication.\n",
      "Using ``*`` for matrix multiplication has been deprecated since CVXPY 1.1.\n",
      "    Use ``*`` for matrix-scalar and vector-scalar multiplication.\n",
      "    Use ``@`` for matrix-matrix and matrix-vector multiplication.\n",
      "    Use ``multiply`` for elementwise multiplication.\n",
      "This code path has been hit 1 times so far.\n",
      "\n",
      "\n",
      "This use of ``*`` has resulted in matrix multiplication.\n",
      "Using ``*`` for matrix multiplication has been deprecated since CVXPY 1.1.\n",
      "    Use ``*`` for matrix-scalar and vector-scalar multiplication.\n",
      "    Use ``@`` for matrix-matrix and matrix-vector multiplication.\n",
      "    Use ``multiply`` for elementwise multiplication.\n",
      "This code path has been hit 2 times so far.\n",
      "\n",
      "\n",
      "This use of ``*`` has resulted in matrix multiplication.\n",
      "Using ``*`` for matrix multiplication has been deprecated since CVXPY 1.1.\n",
      "    Use ``*`` for matrix-scalar and vector-scalar multiplication.\n",
      "    Use ``@`` for matrix-matrix and matrix-vector multiplication.\n",
      "    Use ``multiply`` for elementwise multiplication.\n",
      "This code path has been hit 3 times so far.\n",
      "\n",
      "invalid value encountered in reciprocal\n",
      "\n",
      "This use of ``*`` has resulted in matrix multiplication.\n",
      "Using ``*`` for matrix multiplication has been deprecated since CVXPY 1.1.\n",
      "    Use ``*`` for matrix-scalar and vector-scalar multiplication.\n",
      "    Use ``@`` for matrix-matrix and matrix-vector multiplication.\n",
      "    Use ``multiply`` for elementwise multiplication.\n",
      "This code path has been hit 4 times so far.\n",
      "\n"
     ]
    },
    {
     "name": "stdout",
     "output_type": "stream",
     "text": [
      "Optimized Preprocessing: Objective converged to 0.014187\n"
     ]
    },
    {
     "name": "stderr",
     "output_type": "stream",
     "text": [
      "Privileged and unprivileged groups specified will not be used. The protected attributes are directly specified in the data preprocessing function. The current implementation automatically adjusts for discrimination across all groups. This can be changed by changing the optimization code.\n",
      "\n",
      "This use of ``*`` has resulted in matrix multiplication.\n",
      "Using ``*`` for matrix multiplication has been deprecated since CVXPY 1.1.\n",
      "    Use ``*`` for matrix-scalar and vector-scalar multiplication.\n",
      "    Use ``@`` for matrix-matrix and matrix-vector multiplication.\n",
      "    Use ``multiply`` for elementwise multiplication.\n",
      "This code path has been hit 5 times so far.\n",
      "\n",
      "\n",
      "This use of ``*`` has resulted in matrix multiplication.\n",
      "Using ``*`` for matrix multiplication has been deprecated since CVXPY 1.1.\n",
      "    Use ``*`` for matrix-scalar and vector-scalar multiplication.\n",
      "    Use ``@`` for matrix-matrix and matrix-vector multiplication.\n",
      "    Use ``multiply`` for elementwise multiplication.\n",
      "This code path has been hit 6 times so far.\n",
      "\n",
      "\n",
      "This use of ``*`` has resulted in matrix multiplication.\n",
      "Using ``*`` for matrix multiplication has been deprecated since CVXPY 1.1.\n",
      "    Use ``*`` for matrix-scalar and vector-scalar multiplication.\n",
      "    Use ``@`` for matrix-matrix and matrix-vector multiplication.\n",
      "    Use ``multiply`` for elementwise multiplication.\n",
      "This code path has been hit 7 times so far.\n",
      "\n",
      "\n",
      "This use of ``*`` has resulted in matrix multiplication.\n",
      "Using ``*`` for matrix multiplication has been deprecated since CVXPY 1.1.\n",
      "    Use ``*`` for matrix-scalar and vector-scalar multiplication.\n",
      "    Use ``@`` for matrix-matrix and matrix-vector multiplication.\n",
      "    Use ``multiply`` for elementwise multiplication.\n",
      "This code path has been hit 8 times so far.\n",
      "\n"
     ]
    },
    {
     "name": "stdout",
     "output_type": "stream",
     "text": [
      "Optimized Preprocessing: Objective converged to 0.001794\n"
     ]
    }
   ],
   "source": [
    "adult_optim_options = {\n",
    "    \"distortion_fun\": get_distortion_adult,\n",
    "    \"epsilon\": 0.05,\n",
    "    \"clist\": [0.99, 1.99, 2.99],\n",
    "    \"dlist\": [.1, 0.05, 0]\n",
    "}\n",
    "    \n",
    "adult_OP = OptimPreproc(\n",
    "                        OptTools,\n",
    "                        adult_optim_options, \n",
    "                        unprivileged_groups= {'sex': 0, 'race': 0}, \n",
    "                        privileged_groups = {'sex': 1, 'race': 1}, \n",
    "                        seed = 0\n",
    ")\n",
    "\n",
    "adult_OP = adult_OP.fit(train)\n",
    "adult_transf_train = adult_OP.transform(train, transform_Y=True)\n",
    "adult_transf_train = train.align_datasets(adult_transf_train)\n",
    "\n",
    "adult_trans_train_metrics = BinaryLabelDatasetMetric(\n",
    "                                                    adult_transf_train,\n",
    "                                                    privileged_groups=privileged_adult, \n",
    "                                                    unprivileged_groups=unprivileged_adult\n",
    ")\n",
    "\n",
    "adult_transf_stat_par = adult_trans_train_metrics.statistical_parity_difference()\n",
    "\n",
    "diff_after_transformation = abs(adult_train_stat_par_diff - adult_transf_stat_par)\n",
    "diff_percentage_stat_par = diff_after_transformation*100/abs(adult_train_stat_par_diff)\n",
    "\n",
    "ger_optim_options = {\n",
    "    \"distortion_fun\": get_distortion_german,\n",
    "    \"epsilon\": 0.05,\n",
    "    \"clist\": [0.99, 1.99, 2.99],\n",
    "    \"dlist\": [.1, 0.05, 0]\n",
    "}\n",
    "    \n",
    "ger_OP = OptimPreproc(\n",
    "                        OptTools, \n",
    "                        ger_optim_options, \n",
    "                        unprivileged_groups= {'sex': 0, 'age': 0}, \n",
    "                        privileged_groups = {'sex': 1, 'age': 1}, \n",
    "                        seed = 0\n",
    ")\n",
    "\n",
    "ger_OP = ger_OP.fit(ger_train)\n",
    "ger_transf_train = ger_OP.transform(ger_train, transform_Y=True)\n",
    "ger_transf_train = ger_train.align_datasets(ger_transf_train)\n",
    "\n",
    "ger_trans_train_metrics = BinaryLabelDatasetMetric(\n",
    "                                                    ger_transf_train,\n",
    "                                                    privileged_groups=privileged_german, \n",
    "                                                    unprivileged_groups=unprivileged_german\n",
    ")\n",
    "\n",
    "ger_transf_stat_par = ger_trans_train_metrics.statistical_parity_difference()\n",
    "\n",
    "ger_diff_after_transformation = abs(ger_train_stat_par_diff - ger_transf_stat_par)\n",
    "ger_diff_percentage_stat_par = ger_diff_after_transformation*100/abs(ger_train_stat_par_diff)"
   ]
  },
  {
   "cell_type": "markdown",
   "metadata": {},
   "source": [
    "#### Measure View bias within data after optimised pre-processing"
   ]
  },
  {
   "cell_type": "code",
   "execution_count": 28,
   "metadata": {},
   "outputs": [
    {
     "data": {
      "text/markdown": [
       "#### New statistical parity values within transformed datasets:"
      ],
      "text/plain": [
       "<IPython.core.display.Markdown object>"
      ]
     },
     "metadata": {},
     "output_type": "display_data"
    },
    {
     "name": "stdout",
     "output_type": "stream",
     "text": [
      "Statistical parity difference in the transformed Adult dataset train split is -0.048.\n",
      "This is a fabourable increase from (-0.243) of 80.0%.\n",
      "Statistical parity difference in the transformed German dataset train split is -0.044.\n",
      "This is a fabourable increase from (-0.251) of 82.0%.\n"
     ]
    }
   ],
   "source": [
    "display(Markdown(\"#### New statistical parity values within transformed datasets:\"))\n",
    "print(f\"Statistical parity difference in the transformed Adult dataset train split is {adult_transf_stat_par.round(3)}.\")\n",
    "print(f\"This is a fabourable increase from ({adult_train_stat_par_diff.round(3)}) of {diff_percentage_stat_par.round()}%.\")\n",
    "\n",
    "print(f\"Statistical parity difference in the transformed German dataset train split is {ger_transf_stat_par.round(3)}.\")\n",
    "print(f\"This is a fabourable increase from ({ger_train_stat_par_diff.round(3)}) of {ger_diff_percentage_stat_par.round()}%.\")"
   ]
  },
  {
   "cell_type": "markdown",
   "metadata": {},
   "source": [
    "#### Cross validate using transformed train splits and visualise (dataframes and plots)"
   ]
  },
  {
   "cell_type": "code",
   "execution_count": 29,
   "metadata": {},
   "outputs": [
    {
     "name": "stderr",
     "output_type": "stream",
     "text": [
      "invalid value encountered in double_scalars\n",
      "invalid value encountered in double_scalars\n",
      "invalid value encountered in double_scalars\n",
      "invalid value encountered in double_scalars\n",
      "invalid value encountered in double_scalars\n"
     ]
    }
   ],
   "source": [
    "adult_after_OptP = Accuracy_Fairness_eval(\n",
    "                                        C, \n",
    "                                        adult_transf_train, \n",
    "                                        unprivileged_group=unprivileged_adult, \n",
    "                                        privileged_group=privileged_adult\n",
    ")\n",
    "\n",
    "ger_after_OptP = Accuracy_Fairness_eval(\n",
    "                                        C, \n",
    "                                        ger_transf_train, \n",
    "                                        unprivileged_group=unprivileged_german, \n",
    "                                        privileged_group=privileged_german\n",
    ")"
   ]
  },
  {
   "cell_type": "code",
   "execution_count": 30,
   "metadata": {},
   "outputs": [],
   "source": [
    "adult_OptP_df = pd.DataFrame(adult_after_OptP[0])\n",
    "adult_OptP_df = adult_OptP_df.swapaxes('index', 'columns')\n",
    "adult_OptP_df = adult_OptP_df.reset_index()\n",
    "adult_OptP_df = adult_OptP_df.rename(columns={'index': 'regularisation_parameter'})\n",
    "adult_OptP_df['dataset'] = 'Adult'\n",
    "\n",
    "ger_OptP_df = pd.DataFrame(ger_after_OptP[0])\n",
    "ger_OptP_df = ger_OptP_df.swapaxes('index', 'columns')\n",
    "ger_OptP_df = ger_OptP_df.reset_index()\n",
    "ger_OptP_df = ger_OptP_df.rename(columns={'index': 'regularisation_parameter'})\n",
    "ger_OptP_df['dataset'] = 'German'\n",
    "\n",
    "OptP_frames = (adult_OptP_df, ger_OptP_df)\n",
    "adult_ger_OptP_df = pd.concat(OptP_frames)\n",
    "adult_ger_OptP_df = adult_ger_OptP_df.reset_index(drop=True)\n",
    "adult_ger_OptP_df['Processing'] = 'Optimised Preprocessing'\n",
    "adult_ger_OptP_df['err_rate_ratio_absolute_dist_to_1'] = abs(1 - abs(adult_ger_OptP_df.error_rate_ratio))"
   ]
  },
  {
   "cell_type": "code",
   "execution_count": 31,
   "metadata": {},
   "outputs": [
    {
     "data": {
      "text/html": [
       "<div>\n",
       "<style scoped>\n",
       "    .dataframe tbody tr th:only-of-type {\n",
       "        vertical-align: middle;\n",
       "    }\n",
       "\n",
       "    .dataframe tbody tr th {\n",
       "        vertical-align: top;\n",
       "    }\n",
       "\n",
       "    .dataframe thead th {\n",
       "        text-align: right;\n",
       "    }\n",
       "</style>\n",
       "<table border=\"1\" class=\"dataframe\">\n",
       "  <thead>\n",
       "    <tr style=\"text-align: right;\">\n",
       "      <th></th>\n",
       "      <th>regularisation_parameter</th>\n",
       "      <th>dataset</th>\n",
       "      <th>accuracy</th>\n",
       "      <th>f1_score</th>\n",
       "    </tr>\n",
       "  </thead>\n",
       "  <tbody>\n",
       "    <tr>\n",
       "      <th>0</th>\n",
       "      <td>1.000</td>\n",
       "      <td>Adult</td>\n",
       "      <td>0.7793</td>\n",
       "      <td>0.5036</td>\n",
       "    </tr>\n",
       "    <tr>\n",
       "      <th>1</th>\n",
       "      <td>10.000</td>\n",
       "      <td>Adult</td>\n",
       "      <td>0.7789</td>\n",
       "      <td>0.5068</td>\n",
       "    </tr>\n",
       "    <tr>\n",
       "      <th>2</th>\n",
       "      <td>100.000</td>\n",
       "      <td>Adult</td>\n",
       "      <td>0.7785</td>\n",
       "      <td>0.5054</td>\n",
       "    </tr>\n",
       "    <tr>\n",
       "      <th>3</th>\n",
       "      <td>1000.000</td>\n",
       "      <td>Adult</td>\n",
       "      <td>0.7778</td>\n",
       "      <td>0.5052</td>\n",
       "    </tr>\n",
       "    <tr>\n",
       "      <th>4</th>\n",
       "      <td>0.100</td>\n",
       "      <td>Adult</td>\n",
       "      <td>0.7774</td>\n",
       "      <td>0.5069</td>\n",
       "    </tr>\n",
       "    <tr>\n",
       "      <th>5</th>\n",
       "      <td>0.010</td>\n",
       "      <td>Adult</td>\n",
       "      <td>0.7758</td>\n",
       "      <td>0.4754</td>\n",
       "    </tr>\n",
       "    <tr>\n",
       "      <th>6</th>\n",
       "      <td>0.001</td>\n",
       "      <td>Adult</td>\n",
       "      <td>0.7463</td>\n",
       "      <td>0.0000</td>\n",
       "    </tr>\n",
       "    <tr>\n",
       "      <th>7</th>\n",
       "      <td>0.001</td>\n",
       "      <td>German</td>\n",
       "      <td>0.7071</td>\n",
       "      <td>0.8277</td>\n",
       "    </tr>\n",
       "    <tr>\n",
       "      <th>8</th>\n",
       "      <td>0.010</td>\n",
       "      <td>German</td>\n",
       "      <td>0.7071</td>\n",
       "      <td>0.8277</td>\n",
       "    </tr>\n",
       "    <tr>\n",
       "      <th>9</th>\n",
       "      <td>0.100</td>\n",
       "      <td>German</td>\n",
       "      <td>0.7071</td>\n",
       "      <td>0.8277</td>\n",
       "    </tr>\n",
       "    <tr>\n",
       "      <th>10</th>\n",
       "      <td>1.000</td>\n",
       "      <td>German</td>\n",
       "      <td>0.7071</td>\n",
       "      <td>0.8256</td>\n",
       "    </tr>\n",
       "    <tr>\n",
       "      <th>11</th>\n",
       "      <td>10.000</td>\n",
       "      <td>German</td>\n",
       "      <td>0.7000</td>\n",
       "      <td>0.8140</td>\n",
       "    </tr>\n",
       "    <tr>\n",
       "      <th>12</th>\n",
       "      <td>100.000</td>\n",
       "      <td>German</td>\n",
       "      <td>0.6743</td>\n",
       "      <td>0.7909</td>\n",
       "    </tr>\n",
       "    <tr>\n",
       "      <th>13</th>\n",
       "      <td>1000.000</td>\n",
       "      <td>German</td>\n",
       "      <td>0.6600</td>\n",
       "      <td>0.7690</td>\n",
       "    </tr>\n",
       "  </tbody>\n",
       "</table>\n",
       "</div>"
      ],
      "text/plain": [
       "    regularisation_parameter dataset  accuracy  f1_score\n",
       "0                      1.000   Adult    0.7793    0.5036\n",
       "1                     10.000   Adult    0.7789    0.5068\n",
       "2                    100.000   Adult    0.7785    0.5054\n",
       "3                   1000.000   Adult    0.7778    0.5052\n",
       "4                      0.100   Adult    0.7774    0.5069\n",
       "5                      0.010   Adult    0.7758    0.4754\n",
       "6                      0.001   Adult    0.7463    0.0000\n",
       "7                      0.001  German    0.7071    0.8277\n",
       "8                      0.010  German    0.7071    0.8277\n",
       "9                      0.100  German    0.7071    0.8277\n",
       "10                     1.000  German    0.7071    0.8256\n",
       "11                    10.000  German    0.7000    0.8140\n",
       "12                   100.000  German    0.6743    0.7909\n",
       "13                  1000.000  German    0.6600    0.7690"
      ]
     },
     "execution_count": 31,
     "metadata": {},
     "output_type": "execute_result"
    }
   ],
   "source": [
    "OptP_most_acc = adult_ger_OptP_df[['regularisation_parameter','dataset' ,'accuracy', 'f1_score']].groupby(by=['regularisation_parameter', 'dataset']).mean().sort_values(by='accuracy', ascending=False).reset_index()\n",
    "OptP_most_acc.round(4)"
   ]
  },
  {
   "cell_type": "code",
   "execution_count": 32,
   "metadata": {},
   "outputs": [
    {
     "data": {
      "image/png": "[encoded data removed]",
      "text/plain": [
       "<Figure size 432x288 with 1 Axes>"
      ]
     },
     "metadata": {
      "needs_background": "light"
     },
     "output_type": "display_data"
    }
   ],
   "source": [
    "p4 = sns.barplot(\n",
    "                x=OptP_most_acc.regularisation_parameter, \n",
    "                y=OptP_most_acc.accuracy, hue=OptP_most_acc.dataset,\n",
    "                palette=(\"cubehelix\")\n",
    ")\n",
    "\n",
    "plt.ylim((0.6,0.85))\n",
    "show_values(p4)\n",
    "plt.legend(loc = 5)\n",
    "plt.title(\"Transformed datasets accuracy\", fontsize =13)\n",
    "plt.xlabel(\"C values\", fontsize=12)\n",
    "plt.ylabel(\"Mean accuracy score\", fontsize =12)\n",
    "plt.savefig('Q2 accuracy', bbox_inches='tight', dpi=150)"
   ]
  },
  {
   "cell_type": "code",
   "execution_count": 33,
   "metadata": {},
   "outputs": [
    {
     "name": "stderr",
     "output_type": "stream",
     "text": [
      "\n",
      "This use of ``*`` has resulted in matrix multiplication.\n",
      "Using ``*`` for matrix multiplication has been deprecated since CVXPY 1.1.\n",
      "    Use ``*`` for matrix-scalar and vector-scalar multiplication.\n",
      "    Use ``@`` for matrix-matrix and matrix-vector multiplication.\n",
      "    Use ``multiply`` for elementwise multiplication.\n",
      "This code path has been hit 9 times so far.\n",
      "\n",
      "\n",
      "This use of ``*`` has resulted in matrix multiplication.\n",
      "Using ``*`` for matrix multiplication has been deprecated since CVXPY 1.1.\n",
      "    Use ``*`` for matrix-scalar and vector-scalar multiplication.\n",
      "    Use ``@`` for matrix-matrix and matrix-vector multiplication.\n",
      "    Use ``multiply`` for elementwise multiplication.\n",
      "This code path has been hit 10 times so far.\n",
      "\n",
      "\n",
      "This use of ``*`` has resulted in matrix multiplication.\n",
      "Using ``*`` for matrix multiplication has been deprecated since CVXPY 1.1.\n",
      "    Use ``*`` for matrix-scalar and vector-scalar multiplication.\n",
      "    Use ``@`` for matrix-matrix and matrix-vector multiplication.\n",
      "    Use ``multiply`` for elementwise multiplication.\n",
      "This code path has been hit 11 times so far.\n",
      "\n",
      "invalid value encountered in reciprocal\n",
      "\n",
      "This use of ``*`` has resulted in matrix multiplication.\n",
      "Using ``*`` for matrix multiplication has been deprecated since CVXPY 1.1.\n",
      "    Use ``*`` for matrix-scalar and vector-scalar multiplication.\n",
      "    Use ``@`` for matrix-matrix and matrix-vector multiplication.\n",
      "    Use ``multiply`` for elementwise multiplication.\n",
      "This code path has been hit 12 times so far.\n",
      "\n"
     ]
    },
    {
     "name": "stdout",
     "output_type": "stream",
     "text": [
      "Optimized Preprocessing: Objective converged to 0.014939\n"
     ]
    },
    {
     "name": "stderr",
     "output_type": "stream",
     "text": [
      "\n",
      "This use of ``*`` has resulted in matrix multiplication.\n",
      "Using ``*`` for matrix multiplication has been deprecated since CVXPY 1.1.\n",
      "    Use ``*`` for matrix-scalar and vector-scalar multiplication.\n",
      "    Use ``@`` for matrix-matrix and matrix-vector multiplication.\n",
      "    Use ``multiply`` for elementwise multiplication.\n",
      "This code path has been hit 13 times so far.\n",
      "\n",
      "\n",
      "This use of ``*`` has resulted in matrix multiplication.\n",
      "Using ``*`` for matrix multiplication has been deprecated since CVXPY 1.1.\n",
      "    Use ``*`` for matrix-scalar and vector-scalar multiplication.\n",
      "    Use ``@`` for matrix-matrix and matrix-vector multiplication.\n",
      "    Use ``multiply`` for elementwise multiplication.\n",
      "This code path has been hit 14 times so far.\n",
      "\n",
      "\n",
      "This use of ``*`` has resulted in matrix multiplication.\n",
      "Using ``*`` for matrix multiplication has been deprecated since CVXPY 1.1.\n",
      "    Use ``*`` for matrix-scalar and vector-scalar multiplication.\n",
      "    Use ``@`` for matrix-matrix and matrix-vector multiplication.\n",
      "    Use ``multiply`` for elementwise multiplication.\n",
      "This code path has been hit 15 times so far.\n",
      "\n",
      "\n",
      "This use of ``*`` has resulted in matrix multiplication.\n",
      "Using ``*`` for matrix multiplication has been deprecated since CVXPY 1.1.\n",
      "    Use ``*`` for matrix-scalar and vector-scalar multiplication.\n",
      "    Use ``@`` for matrix-matrix and matrix-vector multiplication.\n",
      "    Use ``multiply`` for elementwise multiplication.\n",
      "This code path has been hit 16 times so far.\n",
      "\n"
     ]
    },
    {
     "name": "stdout",
     "output_type": "stream",
     "text": [
      "Optimized Preprocessing: Objective converged to 0.000000\n"
     ]
    }
   ],
   "source": [
    "whole_adult_OP = adult_OP.fit(adult_dataset)\n",
    "whole_adult_transformed = adult_OP.transform(adult_dataset, transform_Y=True)\n",
    "whole_adult_transformed = adult_dataset.align_datasets(whole_adult_transformed)\n",
    "transformed_adult_train, transformed_adult_test = whole_adult_transformed.split([0.7], shuffle=True, seed=0)\n",
    "\n",
    "whole_german_OP = ger_OP.fit(german_dataset)\n",
    "whole_german_transformed = ger_OP.transform(german_dataset, transform_Y=True)\n",
    "whole_german_transformed = german_dataset.align_datasets(whole_german_transformed)\n",
    "transformed_german_train, transformed_german_test = whole_german_transformed.split([0.7], shuffle=True, seed=0)"
   ]
  },
  {
   "cell_type": "markdown",
   "metadata": {},
   "source": [
    "#### Select the most dair and most accurate models using the datasets"
   ]
  },
  {
   "cell_type": "code",
   "execution_count": 34,
   "metadata": {},
   "outputs": [],
   "source": [
    "OptP_chosen_adult_accuracy = model_chosen(\n",
    "                                            c_value=1,\n",
    "                                            train_data=transformed_adult_train,\n",
    "                                            test_data=transformed_adult_test,\n",
    "                                            privileged_group=privileged_adult,\n",
    "                                            unprivileged_group=unprivileged_adult,\n",
    ")\n",
    "\n",
    "OptP_chosen_german_accuracy = model_chosen(\n",
    "                                            c_value=1,\n",
    "                                            train_data=transformed_german_train,\n",
    "                                            test_data=transformed_german_test,\n",
    "                                            privileged_group=privileged_german,\n",
    "                                            unprivileged_group=unprivileged_german,\n",
    ")"
   ]
  },
  {
   "cell_type": "code",
   "execution_count": 35,
   "metadata": {},
   "outputs": [
    {
     "data": {
      "text/plain": [
       "dict_items([('f1', 0.5005433938829373), ('accuracy', 0.7804545144339043), ('error rate ratio', 0.9624765478424011), ('stat par diff', -0.17473069299694688), ('disparat_impact', 0.19288857329111564)])"
      ]
     },
     "execution_count": 35,
     "metadata": {},
     "output_type": "execute_result"
    }
   ],
   "source": [
    "OptP_chosen_adult_accuracy.items()"
   ]
  },
  {
   "cell_type": "code",
   "execution_count": 36,
   "metadata": {},
   "outputs": [
    {
     "data": {
      "text/plain": [
       "dict_items([('f1', 0.8212180746561885), ('accuracy', 0.6966666666666667), ('error rate ratio', 0.6619623655913979), ('stat par diff', 0.015228426395939132), ('disparat_impact', 1.0154639175257731)])"
      ]
     },
     "execution_count": 36,
     "metadata": {},
     "output_type": "execute_result"
    }
   ],
   "source": [
    "OptP_chosen_german_accuracy.items()"
   ]
  },
  {
   "cell_type": "code",
   "execution_count": 37,
   "metadata": {},
   "outputs": [
    {
     "data": {
      "image/png": "[encoded data removed]",
      "text/plain": [
       "<Figure size 432x288 with 1 Axes>"
      ]
     },
     "metadata": {
      "needs_background": "light"
     },
     "output_type": "display_data"
    }
   ],
   "source": [
    "OptP_most_fair = adult_ger_OptP_df[[\n",
    "                                    'regularisation_parameter',\n",
    "                                    'dataset' ,\n",
    "                                    'err_rate_ratio_absolute_dist_to_1', \n",
    "                                    'error_rate_ratio', \n",
    "                                    'statistical_parity_difference'\n",
    "                                    ]]\n",
    "                                    \n",
    "OptP_most_fair = OptP_most_fair.groupby(by=['regularisation_parameter', 'dataset']).mean().sort_values(by='err_rate_ratio_absolute_dist_to_1')\n",
    "OptP_most_fair = OptP_most_fair.round(3).reset_index()\n",
    "\n",
    "p5 = sns.barplot(\n",
    "                x=OptP_most_fair.regularisation_parameter, \n",
    "                y=OptP_most_fair.err_rate_ratio_absolute_dist_to_1, \n",
    "                hue=OptP_most_fair.dataset,\n",
    "                palette=(\"deep\")\n",
    ")\n",
    "\n",
    "show_values(p5)\n",
    "plt.legend(loc = 5)\n",
    "plt.title(\"Transformed datasets error rate\", fontsize =13)\n",
    "plt.xlabel(\"C values\", fontsize=12)\n",
    "plt.ylabel(\"Mean absolute distance to 1 of error rate ratio\", fontsize =12)\n",
    "plt.savefig('Q2 fair', bbox_inches='tight', dpi=150)"
   ]
  },
  {
   "cell_type": "code",
   "execution_count": 38,
   "metadata": {},
   "outputs": [
    {
     "data": {
      "text/html": [
       "<div>\n",
       "<style scoped>\n",
       "    .dataframe tbody tr th:only-of-type {\n",
       "        vertical-align: middle;\n",
       "    }\n",
       "\n",
       "    .dataframe tbody tr th {\n",
       "        vertical-align: top;\n",
       "    }\n",
       "\n",
       "    .dataframe thead th {\n",
       "        text-align: right;\n",
       "    }\n",
       "</style>\n",
       "<table border=\"1\" class=\"dataframe\">\n",
       "  <thead>\n",
       "    <tr style=\"text-align: right;\">\n",
       "      <th></th>\n",
       "      <th>regularisation_parameter</th>\n",
       "      <th>dataset</th>\n",
       "      <th>err_rate_ratio_absolute_dist_to_1</th>\n",
       "      <th>error_rate_ratio</th>\n",
       "      <th>statistical_parity_difference</th>\n",
       "    </tr>\n",
       "  </thead>\n",
       "  <tbody>\n",
       "    <tr>\n",
       "      <th>0</th>\n",
       "      <td>1000.000</td>\n",
       "      <td>German</td>\n",
       "      <td>0.004</td>\n",
       "      <td>0.996</td>\n",
       "      <td>-0.344</td>\n",
       "    </tr>\n",
       "    <tr>\n",
       "      <th>1</th>\n",
       "      <td>10.000</td>\n",
       "      <td>German</td>\n",
       "      <td>0.007</td>\n",
       "      <td>1.007</td>\n",
       "      <td>-0.439</td>\n",
       "    </tr>\n",
       "    <tr>\n",
       "      <th>2</th>\n",
       "      <td>0.100</td>\n",
       "      <td>Adult</td>\n",
       "      <td>0.011</td>\n",
       "      <td>0.989</td>\n",
       "      <td>-0.124</td>\n",
       "    </tr>\n",
       "    <tr>\n",
       "      <th>3</th>\n",
       "      <td>1000.000</td>\n",
       "      <td>Adult</td>\n",
       "      <td>0.035</td>\n",
       "      <td>0.965</td>\n",
       "      <td>-0.173</td>\n",
       "    </tr>\n",
       "    <tr>\n",
       "      <th>4</th>\n",
       "      <td>0.010</td>\n",
       "      <td>Adult</td>\n",
       "      <td>0.037</td>\n",
       "      <td>0.963</td>\n",
       "      <td>-0.133</td>\n",
       "    </tr>\n",
       "    <tr>\n",
       "      <th>5</th>\n",
       "      <td>100.000</td>\n",
       "      <td>Adult</td>\n",
       "      <td>0.056</td>\n",
       "      <td>0.944</td>\n",
       "      <td>-0.179</td>\n",
       "    </tr>\n",
       "    <tr>\n",
       "      <th>6</th>\n",
       "      <td>10.000</td>\n",
       "      <td>Adult</td>\n",
       "      <td>0.079</td>\n",
       "      <td>0.921</td>\n",
       "      <td>-0.186</td>\n",
       "    </tr>\n",
       "    <tr>\n",
       "      <th>7</th>\n",
       "      <td>1.000</td>\n",
       "      <td>Adult</td>\n",
       "      <td>0.087</td>\n",
       "      <td>0.913</td>\n",
       "      <td>-0.190</td>\n",
       "    </tr>\n",
       "    <tr>\n",
       "      <th>8</th>\n",
       "      <td>100.000</td>\n",
       "      <td>German</td>\n",
       "      <td>0.150</td>\n",
       "      <td>1.150</td>\n",
       "      <td>-0.448</td>\n",
       "    </tr>\n",
       "    <tr>\n",
       "      <th>9</th>\n",
       "      <td>0.001</td>\n",
       "      <td>Adult</td>\n",
       "      <td>0.176</td>\n",
       "      <td>0.824</td>\n",
       "      <td>0.000</td>\n",
       "    </tr>\n",
       "    <tr>\n",
       "      <th>10</th>\n",
       "      <td>0.001</td>\n",
       "      <td>German</td>\n",
       "      <td>0.193</td>\n",
       "      <td>1.193</td>\n",
       "      <td>0.000</td>\n",
       "    </tr>\n",
       "    <tr>\n",
       "      <th>11</th>\n",
       "      <td>0.010</td>\n",
       "      <td>German</td>\n",
       "      <td>0.193</td>\n",
       "      <td>1.193</td>\n",
       "      <td>0.000</td>\n",
       "    </tr>\n",
       "    <tr>\n",
       "      <th>12</th>\n",
       "      <td>0.100</td>\n",
       "      <td>German</td>\n",
       "      <td>0.193</td>\n",
       "      <td>1.193</td>\n",
       "      <td>0.000</td>\n",
       "    </tr>\n",
       "    <tr>\n",
       "      <th>13</th>\n",
       "      <td>1.000</td>\n",
       "      <td>German</td>\n",
       "      <td>0.416</td>\n",
       "      <td>1.416</td>\n",
       "      <td>-0.068</td>\n",
       "    </tr>\n",
       "  </tbody>\n",
       "</table>\n",
       "</div>"
      ],
      "text/plain": [
       "    regularisation_parameter dataset  err_rate_ratio_absolute_dist_to_1  \\\n",
       "0                   1000.000  German                              0.004   \n",
       "1                     10.000  German                              0.007   \n",
       "2                      0.100   Adult                              0.011   \n",
       "3                   1000.000   Adult                              0.035   \n",
       "4                      0.010   Adult                              0.037   \n",
       "5                    100.000   Adult                              0.056   \n",
       "6                     10.000   Adult                              0.079   \n",
       "7                      1.000   Adult                              0.087   \n",
       "8                    100.000  German                              0.150   \n",
       "9                      0.001   Adult                              0.176   \n",
       "10                     0.001  German                              0.193   \n",
       "11                     0.010  German                              0.193   \n",
       "12                     0.100  German                              0.193   \n",
       "13                     1.000  German                              0.416   \n",
       "\n",
       "    error_rate_ratio  statistical_parity_difference  \n",
       "0              0.996                         -0.344  \n",
       "1              1.007                         -0.439  \n",
       "2              0.989                         -0.124  \n",
       "3              0.965                         -0.173  \n",
       "4              0.963                         -0.133  \n",
       "5              0.944                         -0.179  \n",
       "6              0.921                         -0.186  \n",
       "7              0.913                         -0.190  \n",
       "8              1.150                         -0.448  \n",
       "9              0.824                          0.000  \n",
       "10             1.193                          0.000  \n",
       "11             1.193                          0.000  \n",
       "12             1.193                          0.000  \n",
       "13             1.416                         -0.068  "
      ]
     },
     "execution_count": 38,
     "metadata": {},
     "output_type": "execute_result"
    }
   ],
   "source": [
    "OptP_most_fair"
   ]
  },
  {
   "cell_type": "code",
   "execution_count": 39,
   "metadata": {},
   "outputs": [
    {
     "data": {
      "image/png": "[encoded data removed]",
      "text/plain": [
       "<Figure size 432x288 with 1 Axes>"
      ]
     },
     "metadata": {
      "needs_background": "light"
     },
     "output_type": "display_data"
    }
   ],
   "source": [
    "agg_fair_OptP = adult_ger_OptP_df[[\n",
    "                                    'regularisation_parameter',\n",
    "                                    'dataset' ,\n",
    "                                    'err_rate_ratio_absolute_dist_to_1', \n",
    "                                    'error_rate_ratio', \n",
    "                                    'statistical_parity_difference'\n",
    "                                    ]]\n",
    "                                    \n",
    "agg_fair_OptP = agg_fair_OptP.groupby(by=['regularisation_parameter']).mean().sort_values(by='err_rate_ratio_absolute_dist_to_1')\n",
    "agg_fair_OptP = agg_fair_OptP.round(3).reset_index()\n",
    "\n",
    "p6 = sns.barplot(\n",
    "                x=agg_fair_OptP.regularisation_parameter, \n",
    "                y=agg_fair_OptP.err_rate_ratio_absolute_dist_to_1, \n",
    "                palette=(\"deep\")\n",
    ")\n",
    "show_values(p6)\n",
    "plt.title(\"Transformed datasets fairness\", fontsize =13)\n",
    "plt.xlabel(\"C values\", fontsize=12)\n",
    "plt.ylabel(\"Mean absolute distance to 1 of error rate ratio\", fontsize =12)\n",
    "plt.ylim((0,0.9))\n",
    "plt.savefig('Q2 fair aggregated', bbox_inches='tight', dpi=150)"
   ]
  },
  {
   "cell_type": "code",
   "execution_count": 40,
   "metadata": {},
   "outputs": [],
   "source": [
    "OptP_chosen_adult_fair = model_chosen(\n",
    "                                            c_value=1000,\n",
    "                                            train_data=transformed_adult_train,\n",
    "                                            test_data=transformed_adult_test,\n",
    "                                            privileged_group=privileged_adult,\n",
    "                                            unprivileged_group=unprivileged_adult,\n",
    ")\n",
    "\n",
    "OptP_chosen_german_fair = model_chosen(\n",
    "                                            c_value=1000,\n",
    "                                            train_data=transformed_german_train,\n",
    "                                            test_data=transformed_german_test,\n",
    "                                            privileged_group=privileged_german,\n",
    "                                            unprivileged_group=unprivileged_german,\n",
    ")"
   ]
  },
  {
   "cell_type": "code",
   "execution_count": 41,
   "metadata": {},
   "outputs": [
    {
     "data": {
      "text/plain": [
       "dict_items([('f1', 0.5017043693833283), ('accuracy', 0.7805227598444004), ('error rate ratio', 0.985864135864136), ('stat par diff', -0.1625281151596941), ('disparat_impact', 0.24885654885654887)])"
      ]
     },
     "execution_count": 41,
     "metadata": {},
     "output_type": "execute_result"
    }
   ],
   "source": [
    "OptP_chosen_adult_fair.items()"
   ]
  },
  {
   "cell_type": "code",
   "execution_count": 42,
   "metadata": {},
   "outputs": [
    {
     "data": {
      "text/plain": [
       "dict_items([('f1', 0.8112449799196787), ('accuracy', 0.6866666666666666), ('error rate ratio', 0.7817460317460319), ('stat par diff', -0.10469543147208127), ('disparat_impact', 0.8931347150259067)])"
      ]
     },
     "execution_count": 42,
     "metadata": {},
     "output_type": "execute_result"
    }
   ],
   "source": [
    "OptP_chosen_german_fair.items()"
   ]
  },
  {
   "cell_type": "markdown",
   "metadata": {},
   "source": [
    "#### Convert all results into a pandas datafram for visualisation and analysis"
   ]
  },
  {
   "cell_type": "code",
   "execution_count": 43,
   "metadata": {},
   "outputs": [],
   "source": [
    "all_frames = (adult_ger_df, adult_ger_OptP_df)\n",
    "all_df = adult_ger_OptP_df = pd.concat(all_frames)\n",
    "all_df_accuracy = all_df[[\n",
    "                            'regularisation_parameter',\n",
    "                            'dataset' ,\n",
    "                            'accuracy', \n",
    "                            'f1_score', \n",
    "                            'Processing'\n",
    "                            ]]\n",
    "all_df_accuracy = all_df_accuracy.groupby(by=['regularisation_parameter', 'dataset', 'Processing']).mean().sort_values(by='accuracy', ascending=False).reset_index()"
   ]
  },
  {
   "cell_type": "code",
   "execution_count": 44,
   "metadata": {},
   "outputs": [],
   "source": [
    "all_df_fairness = all_df[[\n",
    "                            'err_rate_ratio_absolute_dist_to_1', \n",
    "                            'error_rate_ratio', \n",
    "                            'statistical_parity_difference',\n",
    "                            'regularisation_parameter', \n",
    "                            'dataset', \n",
    "                            'Processing'\n",
    "                            ]]\n",
    "all_df_fairness = all_df_fairness.groupby(by=['regularisation_parameter', 'dataset', 'Processing'])\n",
    "all_df_fairness = all_df_fairness.mean().sort_values(by='err_rate_ratio_absolute_dist_to_1', ascending=True).reset_index()"
   ]
  },
  {
   "cell_type": "code",
   "execution_count": 45,
   "metadata": {},
   "outputs": [
    {
     "data": {
      "text/plain": [
       "Text(0, 0.5, 'Mean absolute distance to 1 of ERR')"
      ]
     },
     "execution_count": 45,
     "metadata": {},
     "output_type": "execute_result"
    },
    {
     "data": {
      "image/png": "[encoded data removed]",
      "text/plain": [
       "<Figure size 1080x360 with 2 Axes>"
      ]
     },
     "metadata": {
      "needs_background": "light"
     },
     "output_type": "display_data"
    }
   ],
   "source": [
    "fig, axs = plt.subplots(ncols=2, figsize = [15,5])\n",
    "\n",
    "sns.barplot(x= all_df_accuracy.regularisation_parameter, y = all_df_accuracy.accuracy, hue=all_df_accuracy.Processing, ax = axs[0], palette='crest')\n",
    "axs[0].set_ylim((0.6,0.85))\n",
    "axs[0].set_title('Mean Accuracy before and after Optimised pre-processing', fontsize =13)\n",
    "axs[0].set_xlabel('C Values', fontsize = 12)\n",
    "axs[0].set_ylabel('Mean accuracy score')\n",
    "\n",
    "\n",
    "axs[1].set_title('Mean absolute distance to 1 of ERR before and after Optimised pre-processing', fontsize =13)\n",
    "sns.barplot(x= all_df_fairness.regularisation_parameter, y = all_df_fairness.err_rate_ratio_absolute_dist_to_1 , hue=all_df_fairness.Processing, ax = axs[1])\n",
    "axs[1].set_xlabel('C Values', fontsize = 12)\n",
    "axs[1].set_ylabel('Mean absolute distance to 1 of ERR', fontsize = 12)"
   ]
  },
  {
   "cell_type": "code",
   "execution_count": 46,
   "metadata": {},
   "outputs": [
    {
     "data": {
      "image/png": "[encoded data removed]",
      "text/plain": [
       "<Figure size 432x288 with 1 Axes>"
      ]
     },
     "metadata": {
      "needs_background": "light"
     },
     "output_type": "display_data"
    }
   ],
   "source": [
    "p7 = sns.barplot(x= all_df_accuracy.regularisation_parameter, y = all_df_accuracy.accuracy, hue=all_df_accuracy.Processing, ci=None, palette='crest')\n",
    "plt.ylim((0.6,0.85))\n",
    "plt.title('Mean Accuracy before and after Optimised pre-processing', fontsize =13)\n",
    "plt.xlabel('C Values', fontsize = 12)\n",
    "plt.ylabel('Mean accuracy score')\n",
    "show_values(p7)\n",
    "plt.savefig('Before and after OptP', bbox_inches='tight', dpi=150)"
   ]
  },
  {
   "cell_type": "code",
   "execution_count": 47,
   "metadata": {},
   "outputs": [
    {
     "data": {
      "image/png": "[encoded data removed]",
      "text/plain": [
       "<Figure size 432x288 with 1 Axes>"
      ]
     },
     "metadata": {
      "needs_background": "light"
     },
     "output_type": "display_data"
    }
   ],
   "source": [
    "sns.scatterplot(\n",
    "    x=all_df.accuracy, \n",
    "    y=all_df.err_rate_ratio_absolute_dist_to_1, \n",
    "    hue=all_df.Processing, style=all_df.dataset\n",
    "    )\n",
    "plt.legend(loc=2)\n",
    "plt.xlabel(\"Mean accuracy score\", fontsize = 12)\n",
    "plt.ylabel(\"Mean absolute ERR distance to 1\", fontsize = 12)\n",
    "plt.title(\"Accuracy and ERR with and without data transformation\", fontsize = 13)\n",
    "plt.savefig('Q3 Accuracy and ERR with and without data transformation', bbox_inches='tight', dpi=150)"
   ]
  },
  {
   "cell_type": "code",
   "execution_count": 48,
   "metadata": {},
   "outputs": [
    {
     "data": {
      "image/png": "[encoded data removed]",
      "text/plain": [
       "<Figure size 432x288 with 1 Axes>"
      ]
     },
     "metadata": {
      "needs_background": "light"
     },
     "output_type": "display_data"
    }
   ],
   "source": [
    "sns.scatterplot(\n",
    "    x=all_df.error_rate_ratio,\n",
    "    y=all_df['statistical_parity_difference'], \n",
    "    hue=all_df.Processing, \n",
    "    style=all_df.dataset\n",
    "    )\n",
    "plt.legend(loc=2)\n",
    "plt.xlabel(\"Mean error rate ratio\", fontsize = 12)\n",
    "plt.ylabel(\"Mean statistical parity difference\", fontsize = 12)\n",
    "plt.title(\"Mean error rare ratio and statistical parity difference\", fontsize = 13)\n",
    "plt.ylim((-0.6,0.6))\n",
    "plt.xlim((0,2.05))\n",
    "plt.hlines(y=0, xmin = 0, xmax=3, linestyle = '--', color = 'black')\n",
    "plt.vlines(x=1, ymin = -0.6, ymax=0.6, linestyle = '--', color = 'black')\n",
    "plt.savefig('ERR and SPD coss', bbox_inches='tight', dpi=150)"
   ]
  },
  {
   "cell_type": "code",
   "execution_count": 49,
   "metadata": {},
   "outputs": [
    {
     "data": {
      "text/html": [
       "<div>\n",
       "<style scoped>\n",
       "    .dataframe tbody tr th:only-of-type {\n",
       "        vertical-align: middle;\n",
       "    }\n",
       "\n",
       "    .dataframe tbody tr th {\n",
       "        vertical-align: top;\n",
       "    }\n",
       "\n",
       "    .dataframe thead th {\n",
       "        text-align: right;\n",
       "    }\n",
       "</style>\n",
       "<table border=\"1\" class=\"dataframe\">\n",
       "  <thead>\n",
       "    <tr style=\"text-align: right;\">\n",
       "      <th></th>\n",
       "      <th>regularisation_parameter</th>\n",
       "      <th>dataset</th>\n",
       "      <th>Processing</th>\n",
       "      <th>err_rate_ratio_absolute_dist_to_1</th>\n",
       "      <th>error_rate_ratio</th>\n",
       "      <th>statistical_parity_difference</th>\n",
       "    </tr>\n",
       "  </thead>\n",
       "  <tbody>\n",
       "    <tr>\n",
       "      <th>0</th>\n",
       "      <td>1000.000</td>\n",
       "      <td>German</td>\n",
       "      <td>Optimised Preprocessing</td>\n",
       "      <td>0.004</td>\n",
       "      <td>0.996</td>\n",
       "      <td>-0.344</td>\n",
       "    </tr>\n",
       "    <tr>\n",
       "      <th>1</th>\n",
       "      <td>10.000</td>\n",
       "      <td>German</td>\n",
       "      <td>Optimised Preprocessing</td>\n",
       "      <td>0.007</td>\n",
       "      <td>1.007</td>\n",
       "      <td>-0.439</td>\n",
       "    </tr>\n",
       "    <tr>\n",
       "      <th>2</th>\n",
       "      <td>0.100</td>\n",
       "      <td>Adult</td>\n",
       "      <td>Optimised Preprocessing</td>\n",
       "      <td>0.011</td>\n",
       "      <td>0.989</td>\n",
       "      <td>-0.124</td>\n",
       "    </tr>\n",
       "    <tr>\n",
       "      <th>3</th>\n",
       "      <td>1000.000</td>\n",
       "      <td>Adult</td>\n",
       "      <td>Optimised Preprocessing</td>\n",
       "      <td>0.035</td>\n",
       "      <td>0.965</td>\n",
       "      <td>-0.173</td>\n",
       "    </tr>\n",
       "    <tr>\n",
       "      <th>4</th>\n",
       "      <td>0.010</td>\n",
       "      <td>Adult</td>\n",
       "      <td>Optimised Preprocessing</td>\n",
       "      <td>0.037</td>\n",
       "      <td>0.963</td>\n",
       "      <td>-0.133</td>\n",
       "    </tr>\n",
       "    <tr>\n",
       "      <th>5</th>\n",
       "      <td>100.000</td>\n",
       "      <td>Adult</td>\n",
       "      <td>Optimised Preprocessing</td>\n",
       "      <td>0.056</td>\n",
       "      <td>0.944</td>\n",
       "      <td>-0.179</td>\n",
       "    </tr>\n",
       "    <tr>\n",
       "      <th>6</th>\n",
       "      <td>10.000</td>\n",
       "      <td>Adult</td>\n",
       "      <td>Optimised Preprocessing</td>\n",
       "      <td>0.079</td>\n",
       "      <td>0.921</td>\n",
       "      <td>-0.186</td>\n",
       "    </tr>\n",
       "    <tr>\n",
       "      <th>7</th>\n",
       "      <td>1.000</td>\n",
       "      <td>Adult</td>\n",
       "      <td>Optimised Preprocessing</td>\n",
       "      <td>0.087</td>\n",
       "      <td>0.913</td>\n",
       "      <td>-0.190</td>\n",
       "    </tr>\n",
       "    <tr>\n",
       "      <th>8</th>\n",
       "      <td>100.000</td>\n",
       "      <td>German</td>\n",
       "      <td>Optimised Preprocessing</td>\n",
       "      <td>0.150</td>\n",
       "      <td>1.150</td>\n",
       "      <td>-0.448</td>\n",
       "    </tr>\n",
       "    <tr>\n",
       "      <th>9</th>\n",
       "      <td>0.001</td>\n",
       "      <td>Adult</td>\n",
       "      <td>Optimised Preprocessing</td>\n",
       "      <td>0.176</td>\n",
       "      <td>0.824</td>\n",
       "      <td>0.000</td>\n",
       "    </tr>\n",
       "    <tr>\n",
       "      <th>10</th>\n",
       "      <td>0.100</td>\n",
       "      <td>German</td>\n",
       "      <td>Optimised Preprocessing</td>\n",
       "      <td>0.193</td>\n",
       "      <td>1.193</td>\n",
       "      <td>0.000</td>\n",
       "    </tr>\n",
       "    <tr>\n",
       "      <th>11</th>\n",
       "      <td>0.010</td>\n",
       "      <td>German</td>\n",
       "      <td>Optimised Preprocessing</td>\n",
       "      <td>0.193</td>\n",
       "      <td>1.193</td>\n",
       "      <td>0.000</td>\n",
       "    </tr>\n",
       "    <tr>\n",
       "      <th>12</th>\n",
       "      <td>0.001</td>\n",
       "      <td>German</td>\n",
       "      <td>Optimised Preprocessing</td>\n",
       "      <td>0.193</td>\n",
       "      <td>1.193</td>\n",
       "      <td>0.000</td>\n",
       "    </tr>\n",
       "    <tr>\n",
       "      <th>13</th>\n",
       "      <td>1000.000</td>\n",
       "      <td>German</td>\n",
       "      <td>None</td>\n",
       "      <td>0.373</td>\n",
       "      <td>1.373</td>\n",
       "      <td>-0.462</td>\n",
       "    </tr>\n",
       "    <tr>\n",
       "      <th>14</th>\n",
       "      <td>1.000</td>\n",
       "      <td>German</td>\n",
       "      <td>Optimised Preprocessing</td>\n",
       "      <td>0.416</td>\n",
       "      <td>1.416</td>\n",
       "      <td>-0.068</td>\n",
       "    </tr>\n",
       "    <tr>\n",
       "      <th>15</th>\n",
       "      <td>100.000</td>\n",
       "      <td>German</td>\n",
       "      <td>None</td>\n",
       "      <td>0.423</td>\n",
       "      <td>1.423</td>\n",
       "      <td>-0.508</td>\n",
       "    </tr>\n",
       "    <tr>\n",
       "      <th>16</th>\n",
       "      <td>10.000</td>\n",
       "      <td>German</td>\n",
       "      <td>None</td>\n",
       "      <td>0.508</td>\n",
       "      <td>1.508</td>\n",
       "      <td>-0.503</td>\n",
       "    </tr>\n",
       "    <tr>\n",
       "      <th>17</th>\n",
       "      <td>1.000</td>\n",
       "      <td>German</td>\n",
       "      <td>None</td>\n",
       "      <td>0.686</td>\n",
       "      <td>1.686</td>\n",
       "      <td>-0.531</td>\n",
       "    </tr>\n",
       "    <tr>\n",
       "      <th>18</th>\n",
       "      <td>100.000</td>\n",
       "      <td>Adult</td>\n",
       "      <td>None</td>\n",
       "      <td>0.697</td>\n",
       "      <td>0.303</td>\n",
       "      <td>-0.237</td>\n",
       "    </tr>\n",
       "    <tr>\n",
       "      <th>19</th>\n",
       "      <td>1000.000</td>\n",
       "      <td>Adult</td>\n",
       "      <td>None</td>\n",
       "      <td>0.698</td>\n",
       "      <td>0.302</td>\n",
       "      <td>-0.242</td>\n",
       "    </tr>\n",
       "    <tr>\n",
       "      <th>20</th>\n",
       "      <td>1.000</td>\n",
       "      <td>Adult</td>\n",
       "      <td>None</td>\n",
       "      <td>0.702</td>\n",
       "      <td>0.298</td>\n",
       "      <td>-0.230</td>\n",
       "    </tr>\n",
       "    <tr>\n",
       "      <th>21</th>\n",
       "      <td>0.100</td>\n",
       "      <td>Adult</td>\n",
       "      <td>None</td>\n",
       "      <td>0.702</td>\n",
       "      <td>0.298</td>\n",
       "      <td>-0.224</td>\n",
       "    </tr>\n",
       "    <tr>\n",
       "      <th>22</th>\n",
       "      <td>10.000</td>\n",
       "      <td>Adult</td>\n",
       "      <td>None</td>\n",
       "      <td>0.702</td>\n",
       "      <td>0.298</td>\n",
       "      <td>-0.237</td>\n",
       "    </tr>\n",
       "    <tr>\n",
       "      <th>23</th>\n",
       "      <td>0.010</td>\n",
       "      <td>Adult</td>\n",
       "      <td>None</td>\n",
       "      <td>0.708</td>\n",
       "      <td>0.292</td>\n",
       "      <td>-0.205</td>\n",
       "    </tr>\n",
       "    <tr>\n",
       "      <th>24</th>\n",
       "      <td>0.001</td>\n",
       "      <td>Adult</td>\n",
       "      <td>None</td>\n",
       "      <td>0.770</td>\n",
       "      <td>0.230</td>\n",
       "      <td>0.000</td>\n",
       "    </tr>\n",
       "    <tr>\n",
       "      <th>25</th>\n",
       "      <td>0.100</td>\n",
       "      <td>German</td>\n",
       "      <td>None</td>\n",
       "      <td>1.027</td>\n",
       "      <td>2.027</td>\n",
       "      <td>0.000</td>\n",
       "    </tr>\n",
       "    <tr>\n",
       "      <th>26</th>\n",
       "      <td>0.010</td>\n",
       "      <td>German</td>\n",
       "      <td>None</td>\n",
       "      <td>1.027</td>\n",
       "      <td>2.027</td>\n",
       "      <td>0.000</td>\n",
       "    </tr>\n",
       "    <tr>\n",
       "      <th>27</th>\n",
       "      <td>0.001</td>\n",
       "      <td>German</td>\n",
       "      <td>None</td>\n",
       "      <td>1.027</td>\n",
       "      <td>2.027</td>\n",
       "      <td>0.000</td>\n",
       "    </tr>\n",
       "  </tbody>\n",
       "</table>\n",
       "</div>"
      ],
      "text/plain": [
       "    regularisation_parameter dataset               Processing  \\\n",
       "0                   1000.000  German  Optimised Preprocessing   \n",
       "1                     10.000  German  Optimised Preprocessing   \n",
       "2                      0.100   Adult  Optimised Preprocessing   \n",
       "3                   1000.000   Adult  Optimised Preprocessing   \n",
       "4                      0.010   Adult  Optimised Preprocessing   \n",
       "5                    100.000   Adult  Optimised Preprocessing   \n",
       "6                     10.000   Adult  Optimised Preprocessing   \n",
       "7                      1.000   Adult  Optimised Preprocessing   \n",
       "8                    100.000  German  Optimised Preprocessing   \n",
       "9                      0.001   Adult  Optimised Preprocessing   \n",
       "10                     0.100  German  Optimised Preprocessing   \n",
       "11                     0.010  German  Optimised Preprocessing   \n",
       "12                     0.001  German  Optimised Preprocessing   \n",
       "13                  1000.000  German                     None   \n",
       "14                     1.000  German  Optimised Preprocessing   \n",
       "15                   100.000  German                     None   \n",
       "16                    10.000  German                     None   \n",
       "17                     1.000  German                     None   \n",
       "18                   100.000   Adult                     None   \n",
       "19                  1000.000   Adult                     None   \n",
       "20                     1.000   Adult                     None   \n",
       "21                     0.100   Adult                     None   \n",
       "22                    10.000   Adult                     None   \n",
       "23                     0.010   Adult                     None   \n",
       "24                     0.001   Adult                     None   \n",
       "25                     0.100  German                     None   \n",
       "26                     0.010  German                     None   \n",
       "27                     0.001  German                     None   \n",
       "\n",
       "    err_rate_ratio_absolute_dist_to_1  error_rate_ratio  \\\n",
       "0                               0.004             0.996   \n",
       "1                               0.007             1.007   \n",
       "2                               0.011             0.989   \n",
       "3                               0.035             0.965   \n",
       "4                               0.037             0.963   \n",
       "5                               0.056             0.944   \n",
       "6                               0.079             0.921   \n",
       "7                               0.087             0.913   \n",
       "8                               0.150             1.150   \n",
       "9                               0.176             0.824   \n",
       "10                              0.193             1.193   \n",
       "11                              0.193             1.193   \n",
       "12                              0.193             1.193   \n",
       "13                              0.373             1.373   \n",
       "14                              0.416             1.416   \n",
       "15                              0.423             1.423   \n",
       "16                              0.508             1.508   \n",
       "17                              0.686             1.686   \n",
       "18                              0.697             0.303   \n",
       "19                              0.698             0.302   \n",
       "20                              0.702             0.298   \n",
       "21                              0.702             0.298   \n",
       "22                              0.702             0.298   \n",
       "23                              0.708             0.292   \n",
       "24                              0.770             0.230   \n",
       "25                              1.027             2.027   \n",
       "26                              1.027             2.027   \n",
       "27                              1.027             2.027   \n",
       "\n",
       "    statistical_parity_difference  \n",
       "0                          -0.344  \n",
       "1                          -0.439  \n",
       "2                          -0.124  \n",
       "3                          -0.173  \n",
       "4                          -0.133  \n",
       "5                          -0.179  \n",
       "6                          -0.186  \n",
       "7                          -0.190  \n",
       "8                          -0.448  \n",
       "9                           0.000  \n",
       "10                          0.000  \n",
       "11                          0.000  \n",
       "12                          0.000  \n",
       "13                         -0.462  \n",
       "14                         -0.068  \n",
       "15                         -0.508  \n",
       "16                         -0.503  \n",
       "17                         -0.531  \n",
       "18                         -0.237  \n",
       "19                         -0.242  \n",
       "20                         -0.230  \n",
       "21                         -0.224  \n",
       "22                         -0.237  \n",
       "23                         -0.205  \n",
       "24                          0.000  \n",
       "25                          0.000  \n",
       "26                          0.000  \n",
       "27                          0.000  "
      ]
     },
     "execution_count": 49,
     "metadata": {},
     "output_type": "execute_result"
    }
   ],
   "source": [
    "all_df_fairness.round(3).to_excel(\"most fair table.xlsx\")\n",
    "all_df_fairness.round(3)"
   ]
  },
  {
   "cell_type": "markdown",
   "metadata": {},
   "source": [
    "#### Model Selection Strategy\n",
    "Optimise the chosen models for accuracy using the RadomisedCV function provided in SciKitlearn "
   ]
  },
  {
   "cell_type": "code",
   "execution_count": 50,
   "metadata": {},
   "outputs": [],
   "source": [
    "parameter_dict_one = {\n",
    "                        'C':[1],\n",
    "                        'gamma': [1, 0.1, 0.01, 0.001, 0.0001, 0.00001],\n",
    "                        'kernel':['rbf']\n",
    "}\n",
    "\n",
    "parameter_dict_thousand = {\n",
    "                        'C':[1000],\n",
    "                        'gamma': [1, 0.1, 0.01, 0.001, 0.0001, 0.00001],\n",
    "                        'kernel':['rbf']\n",
    "}\n",
    "\n",
    "svm_model = svm.SVC(gamma='auto')"
   ]
  },
  {
   "cell_type": "code",
   "execution_count": 51,
   "metadata": {},
   "outputs": [],
   "source": [
    "scale = StandardScaler()\n",
    "\n",
    "RSCV_adult_features = scale.fit_transform(transformed_adult_train.features)\n",
    "RSCV_adult_labels = transformed_adult_train.labels.ravel()\n",
    "\n",
    "RSCV_German_features = scale.fit_transform(transformed_german_train.features)\n",
    "RSCV_German_labels = transformed_german_train.labels.ravel()"
   ]
  },
  {
   "cell_type": "code",
   "execution_count": 52,
   "metadata": {},
   "outputs": [
    {
     "name": "stdout",
     "output_type": "stream",
     "text": [
      "Fitting 5 folds for each of 6 candidates, totalling 30 fits\n"
     ]
    },
    {
     "name": "stderr",
     "output_type": "stream",
     "text": [
      "The total space of parameters 6 is smaller than n_iter=10. Running 6 iterations. For exhaustive searches, use GridSearchCV.\n"
     ]
    },
    {
     "name": "stdout",
     "output_type": "stream",
     "text": [
      "[CV] END ...........................C=1, gamma=1, kernel=rbf; total time= 1.2min\n",
      "[CV] END ...........................C=1, gamma=1, kernel=rbf; total time= 1.2min\n",
      "[CV] END ...........................C=1, gamma=1, kernel=rbf; total time= 1.3min\n",
      "[CV] END ...........................C=1, gamma=1, kernel=rbf; total time= 1.3min\n",
      "[CV] END .........................C=1, gamma=0.1, kernel=rbf; total time= 1.2min\n",
      "[CV] END .........................C=1, gamma=0.1, kernel=rbf; total time= 1.2min\n",
      "[CV] END .........................C=1, gamma=0.1, kernel=rbf; total time= 1.2min\n",
      "[CV] END ...........................C=1, gamma=1, kernel=rbf; total time= 1.2min\n",
      "[CV] END .........................C=1, gamma=0.1, kernel=rbf; total time= 1.1min\n",
      "[CV] END .........................C=1, gamma=0.1, kernel=rbf; total time= 1.2min\n",
      "[CV] END ........................C=1, gamma=0.01, kernel=rbf; total time= 1.2min\n",
      "[CV] END ........................C=1, gamma=0.01, kernel=rbf; total time= 1.2min\n",
      "[CV] END ........................C=1, gamma=0.01, kernel=rbf; total time= 1.2min\n",
      "[CV] END ........................C=1, gamma=0.01, kernel=rbf; total time= 1.3min\n",
      "[CV] END ........................C=1, gamma=0.01, kernel=rbf; total time= 1.3min\n",
      "[CV] END .......................C=1, gamma=0.001, kernel=rbf; total time= 1.4min\n",
      "[CV] END .......................C=1, gamma=0.001, kernel=rbf; total time= 1.3min\n",
      "[CV] END .......................C=1, gamma=0.001, kernel=rbf; total time= 1.3min\n",
      "[CV] END .......................C=1, gamma=0.001, kernel=rbf; total time= 1.3min\n",
      "[CV] END .......................C=1, gamma=0.001, kernel=rbf; total time= 1.3min\n",
      "[CV] END ......................C=1, gamma=0.0001, kernel=rbf; total time= 1.3min\n",
      "[CV] END ......................C=1, gamma=0.0001, kernel=rbf; total time= 1.3min\n",
      "[CV] END ......................C=1, gamma=0.0001, kernel=rbf; total time= 1.3min\n",
      "[CV] END ......................C=1, gamma=0.0001, kernel=rbf; total time= 1.3min\n",
      "[CV] END ......................C=1, gamma=0.0001, kernel=rbf; total time= 1.3min\n",
      "[CV] END .......................C=1, gamma=1e-05, kernel=rbf; total time= 1.3min\n",
      "[CV] END .......................C=1, gamma=1e-05, kernel=rbf; total time= 1.3min\n",
      "[CV] END .......................C=1, gamma=1e-05, kernel=rbf; total time= 1.3min\n",
      "[CV] END .......................C=1, gamma=1e-05, kernel=rbf; total time=  50.7s\n",
      "[CV] END .......................C=1, gamma=1e-05, kernel=rbf; total time=  48.1s\n"
     ]
    },
    {
     "data": {
      "text/plain": [
       "{'kernel': 'rbf', 'gamma': 1, 'C': 1}"
      ]
     },
     "execution_count": 52,
     "metadata": {},
     "output_type": "execute_result"
    }
   ],
   "source": [
    "rf_grid_one_adult = RandomizedSearchCV(estimator=svm_model,param_distributions=parameter_dict_one, cv=5, verbose=2, n_jobs=-1)\n",
    "\n",
    "rf_grid_one_adult.fit(RSCV_adult_features, RSCV_adult_labels)\n",
    "rf_grid_one_adult.best_params_"
   ]
  },
  {
   "cell_type": "code",
   "execution_count": 53,
   "metadata": {},
   "outputs": [
    {
     "name": "stderr",
     "output_type": "stream",
     "text": [
      "The total space of parameters 6 is smaller than n_iter=10. Running 6 iterations. For exhaustive searches, use GridSearchCV.\n"
     ]
    },
    {
     "name": "stdout",
     "output_type": "stream",
     "text": [
      "Fitting 5 folds for each of 6 candidates, totalling 30 fits\n",
      "[CV] END ...........................C=1, gamma=1, kernel=rbf; total time=   0.0s\n",
      "[CV] END ...........................C=1, gamma=1, kernel=rbf; total time=   0.0s\n",
      "[CV] END ...........................C=1, gamma=1, kernel=rbf; total time=   0.0s\n",
      "[CV] END ...........................C=1, gamma=1, kernel=rbf; total time=   0.0s\n",
      "[CV] END ...........................C=1, gamma=1, kernel=rbf; total time=   0.1s\n",
      "[CV] END .........................C=1, gamma=0.1, kernel=rbf; total time=   0.0s\n",
      "[CV] END .........................C=1, gamma=0.1, kernel=rbf; total time=   0.0s\n",
      "[CV] END .........................C=1, gamma=0.1, kernel=rbf; total time=   0.0s\n",
      "[CV] END .........................C=1, gamma=0.1, kernel=rbf; total time=   0.0s\n",
      "[CV] END ........................C=1, gamma=0.01, kernel=rbf; total time=   0.1s\n",
      "[CV] END ........................C=1, gamma=0.01, kernel=rbf; total time=   0.1s\n",
      "[CV] END ........................C=1, gamma=0.01, kernel=rbf; total time=   0.1s\n",
      "[CV] END .........................C=1, gamma=0.1, kernel=rbf; total time=   0.1s\n",
      "[CV] END .......................C=1, gamma=0.001, kernel=rbf; total time=   0.0s\n",
      "[CV] END ........................C=1, gamma=0.01, kernel=rbf; total time=   0.1s\n",
      "[CV] END ........................C=1, gamma=0.01, kernel=rbf; total time=   0.1s\n",
      "[CV] END .......................C=1, gamma=0.001, kernel=rbf; total time=   0.1s\n",
      "[CV] END .......................C=1, gamma=0.001, kernel=rbf; total time=   0.1s\n",
      "[CV] END ......................C=1, gamma=0.0001, kernel=rbf; total time=   0.0s[CV] END ......................C=1, gamma=0.0001, kernel=rbf; total time=   0.0s\n",
      "\n",
      "[CV] END .......................C=1, gamma=0.001, kernel=rbf; total time=   0.0s\n",
      "[CV] END .......................C=1, gamma=0.001, kernel=rbf; total time=   0.0s\n",
      "[CV] END ......................C=1, gamma=0.0001, kernel=rbf; total time=   0.0s\n",
      "[CV] END ......................C=1, gamma=0.0001, kernel=rbf; total time=   0.0s\n",
      "[CV] END ......................C=1, gamma=0.0001, kernel=rbf; total time=   0.0s\n",
      "[CV] END .......................C=1, gamma=1e-05, kernel=rbf; total time=   0.0s[CV] END .......................C=1, gamma=1e-05, kernel=rbf; total time=   0.0s\n",
      "\n",
      "[CV] END .......................C=1, gamma=1e-05, kernel=rbf; total time=   0.0s\n",
      "[CV] END .......................C=1, gamma=1e-05, kernel=rbf; total time=   0.0s\n",
      "[CV] END .......................C=1, gamma=1e-05, kernel=rbf; total time=   0.0s\n"
     ]
    },
    {
     "data": {
      "text/plain": [
       "{'kernel': 'rbf', 'gamma': 0.01, 'C': 1}"
      ]
     },
     "execution_count": 53,
     "metadata": {},
     "output_type": "execute_result"
    }
   ],
   "source": [
    "rf_grid_one_ger = RandomizedSearchCV(estimator=svm_model,param_distributions=parameter_dict_one, cv=5, verbose=2, n_jobs=-1)\n",
    "rf_grid_one_ger.fit(RSCV_German_features, RSCV_German_labels)\n",
    "rf_grid_one_ger.best_params_"
   ]
  },
  {
   "cell_type": "code",
   "execution_count": 54,
   "metadata": {},
   "outputs": [
    {
     "name": "stderr",
     "output_type": "stream",
     "text": [
      "The total space of parameters 6 is smaller than n_iter=10. Running 6 iterations. For exhaustive searches, use GridSearchCV.\n"
     ]
    },
    {
     "name": "stdout",
     "output_type": "stream",
     "text": [
      "Fitting 5 folds for each of 6 candidates, totalling 30 fits\n",
      "[CV] END ........................C=1000, gamma=1, kernel=rbf; total time= 1.2min\n",
      "[CV] END ........................C=1000, gamma=1, kernel=rbf; total time= 1.2min\n",
      "[CV] END ........................C=1000, gamma=1, kernel=rbf; total time= 1.2min\n",
      "[CV] END ........................C=1000, gamma=1, kernel=rbf; total time= 1.2min\n",
      "[CV] END ......................C=1000, gamma=0.1, kernel=rbf; total time= 1.2min\n",
      "[CV] END ......................C=1000, gamma=0.1, kernel=rbf; total time= 1.2min\n",
      "[CV] END ........................C=1000, gamma=1, kernel=rbf; total time= 1.2min\n",
      "[CV] END ......................C=1000, gamma=0.1, kernel=rbf; total time= 1.2min\n",
      "[CV] END ......................C=1000, gamma=0.1, kernel=rbf; total time= 1.3min\n",
      "[CV] END ......................C=1000, gamma=0.1, kernel=rbf; total time= 1.3min\n",
      "[CV] END .....................C=1000, gamma=0.01, kernel=rbf; total time= 1.9min\n",
      "[CV] END .....................C=1000, gamma=0.01, kernel=rbf; total time= 2.0min\n",
      "[CV] END .....................C=1000, gamma=0.01, kernel=rbf; total time= 1.8min\n",
      "[CV] END .....................C=1000, gamma=0.01, kernel=rbf; total time= 1.9min\n",
      "[CV] END .....................C=1000, gamma=0.01, kernel=rbf; total time= 1.9min\n",
      "[CV] END ....................C=1000, gamma=0.001, kernel=rbf; total time=10.7min\n",
      "[CV] END ....................C=1000, gamma=0.001, kernel=rbf; total time=11.8min\n",
      "[CV] END ....................C=1000, gamma=0.001, kernel=rbf; total time=13.3min\n",
      "[CV] END ...................C=1000, gamma=0.0001, kernel=rbf; total time= 3.5min\n",
      "[CV] END ....................C=1000, gamma=0.001, kernel=rbf; total time=16.2min\n",
      "[CV] END ...................C=1000, gamma=0.0001, kernel=rbf; total time= 3.0min\n",
      "[CV] END ...................C=1000, gamma=0.0001, kernel=rbf; total time= 2.6min\n",
      "[CV] END ...................C=1000, gamma=0.0001, kernel=rbf; total time= 3.1min\n",
      "[CV] END ....................C=1000, gamma=1e-05, kernel=rbf; total time= 1.6min\n",
      "[CV] END ...................C=1000, gamma=0.0001, kernel=rbf; total time= 2.5min\n",
      "[CV] END ....................C=1000, gamma=1e-05, kernel=rbf; total time= 1.7min\n",
      "[CV] END ....................C=1000, gamma=1e-05, kernel=rbf; total time= 1.6min\n",
      "[CV] END ....................C=1000, gamma=1e-05, kernel=rbf; total time= 2.0min\n",
      "[CV] END ....................C=1000, gamma=1e-05, kernel=rbf; total time= 1.1min\n",
      "[CV] END ....................C=1000, gamma=0.001, kernel=rbf; total time=15.2min\n"
     ]
    },
    {
     "data": {
      "text/plain": [
       "{'kernel': 'rbf', 'gamma': 1, 'C': 1000}"
      ]
     },
     "execution_count": 54,
     "metadata": {},
     "output_type": "execute_result"
    }
   ],
   "source": [
    "rf_grid_thousand_adult = RandomizedSearchCV(estimator=svm_model,param_distributions=parameter_dict_thousand, cv=5, verbose=2, n_jobs=-1)\n",
    "rf_grid_thousand_adult.fit(RSCV_adult_features, RSCV_adult_labels)\n",
    "rf_grid_thousand_adult.best_params_\n"
   ]
  },
  {
   "cell_type": "code",
   "execution_count": 55,
   "metadata": {},
   "outputs": [
    {
     "name": "stderr",
     "output_type": "stream",
     "text": [
      "The total space of parameters 6 is smaller than n_iter=10. Running 6 iterations. For exhaustive searches, use GridSearchCV.\n"
     ]
    },
    {
     "name": "stdout",
     "output_type": "stream",
     "text": [
      "Fitting 5 folds for each of 6 candidates, totalling 30 fits\n",
      "[CV] END ........................C=1000, gamma=1, kernel=rbf; total time=   0.0s\n",
      "[CV] END ........................C=1000, gamma=1, kernel=rbf; total time=   0.0s\n",
      "[CV] END ........................C=1000, gamma=1, kernel=rbf; total time=   0.0s\n",
      "[CV] END ........................C=1000, gamma=1, kernel=rbf; total time=   0.0s\n",
      "[CV] END ........................C=1000, gamma=1, kernel=rbf; total time=   0.0s\n",
      "[CV] END ......................C=1000, gamma=0.1, kernel=rbf; total time=   0.0s\n",
      "[CV] END ......................C=1000, gamma=0.1, kernel=rbf; total time=   0.0s\n",
      "[CV] END ......................C=1000, gamma=0.1, kernel=rbf; total time=   0.0s\n",
      "[CV] END ......................C=1000, gamma=0.1, kernel=rbf; total time=   0.0s\n",
      "[CV] END ......................C=1000, gamma=0.1, kernel=rbf; total time=   0.0s\n",
      "[CV] END .....................C=1000, gamma=0.01, kernel=rbf; total time=   0.1s\n",
      "[CV] END .....................C=1000, gamma=0.01, kernel=rbf; total time=   0.1s\n",
      "[CV] END .....................C=1000, gamma=0.01, kernel=rbf; total time=   0.1s\n",
      "[CV] END .....................C=1000, gamma=0.01, kernel=rbf; total time=   0.1s\n",
      "[CV] END .....................C=1000, gamma=0.01, kernel=rbf; total time=   0.1s\n",
      "[CV] END ....................C=1000, gamma=0.001, kernel=rbf; total time=   0.2s\n",
      "[CV] END ....................C=1000, gamma=0.001, kernel=rbf; total time=   0.1s\n",
      "[CV] END ...................C=1000, gamma=0.0001, kernel=rbf; total time=   0.1s\n",
      "[CV] END ....................C=1000, gamma=0.001, kernel=rbf; total time=   0.2s\n",
      "[CV] END ...................C=1000, gamma=0.0001, kernel=rbf; total time=   0.1s\n",
      "[CV] END ...................C=1000, gamma=0.0001, kernel=rbf; total time=   0.1s\n",
      "[CV] END ....................C=1000, gamma=0.001, kernel=rbf; total time=   0.2s\n",
      "[CV] END ...................C=1000, gamma=0.0001, kernel=rbf; total time=   0.1s\n",
      "[CV] END ...................C=1000, gamma=0.0001, kernel=rbf; total time=   0.1s\n",
      "[CV] END ....................C=1000, gamma=1e-05, kernel=rbf; total time=   0.0s\n",
      "[CV] END ....................C=1000, gamma=1e-05, kernel=rbf; total time=   0.0s\n",
      "[CV] END ....................C=1000, gamma=1e-05, kernel=rbf; total time=   0.0s[CV] END ....................C=1000, gamma=1e-05, kernel=rbf; total time=   0.0s\n",
      "\n",
      "[CV] END ....................C=1000, gamma=1e-05, kernel=rbf; total time=   0.0s\n",
      "[CV] END ....................C=1000, gamma=0.001, kernel=rbf; total time=   0.3s\n"
     ]
    },
    {
     "data": {
      "text/plain": [
       "{'kernel': 'rbf', 'gamma': 0.001, 'C': 1000}"
      ]
     },
     "execution_count": 55,
     "metadata": {},
     "output_type": "execute_result"
    }
   ],
   "source": [
    "rf_grid_thousand_ger = RandomizedSearchCV(estimator=svm_model,param_distributions=parameter_dict_thousand, cv=5, verbose=2, n_jobs=-1)\n",
    "rf_grid_thousand_ger.fit(RSCV_German_features, RSCV_German_labels)\n",
    "rf_grid_thousand_ger.best_params_"
   ]
  },
  {
   "cell_type": "markdown",
   "metadata": {},
   "source": [
    "#### Build models using the \"best\" parameters for gamma and evaluate results"
   ]
  },
  {
   "cell_type": "code",
   "execution_count": 56,
   "metadata": {},
   "outputs": [],
   "source": [
    "selection_strategy_accurate_adult = model_chosen(\n",
    "                                                c_value=1, \n",
    "                                                train_data= transformed_adult_train, \n",
    "                                                test_data=transformed_adult_test,\n",
    "                                                privileged_group=privileged_adult,\n",
    "                                                unprivileged_group=unprivileged_adult,\n",
    "                                                gamma=1\n",
    "                                                )"
   ]
  },
  {
   "cell_type": "code",
   "execution_count": 57,
   "metadata": {},
   "outputs": [],
   "source": [
    "selection_strategy_accurate_german = model_chosen(\n",
    "                                                c_value=1, \n",
    "                                                train_data= transformed_german_train, \n",
    "                                                test_data=transformed_german_test,\n",
    "                                                privileged_group=privileged_german,\n",
    "                                                unprivileged_group=unprivileged_german,\n",
    "                                                gamma=0.01\n",
    "                                                )"
   ]
  },
  {
   "cell_type": "code",
   "execution_count": 58,
   "metadata": {},
   "outputs": [],
   "source": [
    "selection_strategy_fair_adult = model_chosen(\n",
    "                                                c_value=1000, \n",
    "                                                train_data= transformed_adult_train, \n",
    "                                                test_data=transformed_adult_test,\n",
    "                                                privileged_group=privileged_adult,\n",
    "                                                unprivileged_group=unprivileged_adult,\n",
    "                                                gamma=1\n",
    "                                                )"
   ]
  },
  {
   "cell_type": "code",
   "execution_count": 59,
   "metadata": {},
   "outputs": [],
   "source": [
    "selection_strategy_fair_german = model_chosen(\n",
    "                                                c_value=1000, \n",
    "                                                train_data= transformed_german_train, \n",
    "                                                test_data=transformed_german_test,\n",
    "                                                privileged_group=privileged_german,\n",
    "                                                unprivileged_group=unprivileged_german,\n",
    "                                                gamma=0.001\n",
    "                                                )"
   ]
  },
  {
   "cell_type": "code",
   "execution_count": 60,
   "metadata": {},
   "outputs": [
    {
     "data": {
      "text/plain": [
       "dict_items([('f1', 0.5008533747090768), ('accuracy', 0.7804545144339043), ('error rate ratio', 0.985864135864136), ('stat par diff', -0.17131932395090288), ('disparat_impact', 0.20822690822690823)])"
      ]
     },
     "execution_count": 60,
     "metadata": {},
     "output_type": "execute_result"
    }
   ],
   "source": [
    "selection_strategy_accurate_adult.items()"
   ]
  },
  {
   "cell_type": "code",
   "execution_count": 61,
   "metadata": {},
   "outputs": [
    {
     "data": {
      "text/plain": [
       "dict_items([('f1', 0.828125), ('accuracy', 0.7066666666666667), ('error rate ratio', 0.6956214689265537), ('stat par diff', 0.0), ('disparat_impact', 1.0)])"
      ]
     },
     "execution_count": 61,
     "metadata": {},
     "output_type": "execute_result"
    }
   ],
   "source": [
    "selection_strategy_accurate_german.items()"
   ]
  },
  {
   "cell_type": "code",
   "execution_count": 62,
   "metadata": {},
   "outputs": [
    {
     "data": {
      "text/plain": [
       "dict_items([('f1', 0.5008533747090768), ('accuracy', 0.7804545144339043), ('error rate ratio', 0.985864135864136), ('stat par diff', -0.17131932395090288), ('disparat_impact', 0.20822690822690823)])"
      ]
     },
     "execution_count": 62,
     "metadata": {},
     "output_type": "execute_result"
    }
   ],
   "source": [
    "selection_strategy_fair_adult.items()"
   ]
  },
  {
   "cell_type": "code",
   "execution_count": 63,
   "metadata": {},
   "outputs": [
    {
     "data": {
      "text/plain": [
       "dict_items([('f1', 0.8134920634920635), ('accuracy', 0.6866666666666666), ('error rate ratio', 1.0591397849462365), ('stat par diff', -0.19310490693739424), ('disparat_impact', 0.8039089347079038)])"
      ]
     },
     "execution_count": 63,
     "metadata": {},
     "output_type": "execute_result"
    }
   ],
   "source": [
    "selection_strategy_fair_german.items()"
   ]
  }
 ],
 "metadata": {
  "interpreter": {
   "hash": "8b5c385fcb932a35a560b65bff767eed8ec5dadafb9ab4ac4fad13585de966d0"
  },
  "kernelspec": {
   "display_name": "Python 3.7.11 ('base')",
   "language": "python",
   "name": "python3"
  },
  "language_info": {
   "codemirror_mode": {
    "name": "ipython",
    "version": 3
   },
   "file_extension": ".py",
   "mimetype": "text/x-python",
   "name": "python",
   "nbconvert_exporter": "python",
   "pygments_lexer": "ipython3",
   "version": "3.7.11"
  },
  "orig_nbformat": 4
 },
 "nbformat": 4,
 "nbformat_minor": 2
}
